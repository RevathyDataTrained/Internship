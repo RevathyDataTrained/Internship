{
 "cells": [
  {
   "cell_type": "code",
   "execution_count": 346,
   "id": "19817ad9",
   "metadata": {},
   "outputs": [],
   "source": [
    "import pandas as pd\n",
    "import seaborn as sns\n",
    "import matplotlib.pyplot as plt\n",
    "from  sklearn.preprocessing import StandardScaler\n",
    "from sklearn.model_selection import train_test_split\n",
    "import warnings\n",
    "warnings.filterwarnings(\"ignore\")"
   ]
  },
  {
   "cell_type": "code",
   "execution_count": 347,
   "id": "ba18ff4b",
   "metadata": {},
   "outputs": [],
   "source": [
    "df=pd.read_csv(\"https://raw.githubusercontent.com/dsrscientist/Data-Science-ML-Capstone-Projects/master/Automobile_insurance_fraud.csv\")"
   ]
  },
  {
   "cell_type": "code",
   "execution_count": 348,
   "id": "ca47ffe0",
   "metadata": {},
   "outputs": [
    {
     "data": {
      "text/html": [
       "<div>\n",
       "<style scoped>\n",
       "    .dataframe tbody tr th:only-of-type {\n",
       "        vertical-align: middle;\n",
       "    }\n",
       "\n",
       "    .dataframe tbody tr th {\n",
       "        vertical-align: top;\n",
       "    }\n",
       "\n",
       "    .dataframe thead th {\n",
       "        text-align: right;\n",
       "    }\n",
       "</style>\n",
       "<table border=\"1\" class=\"dataframe\">\n",
       "  <thead>\n",
       "    <tr style=\"text-align: right;\">\n",
       "      <th></th>\n",
       "      <th>months_as_customer</th>\n",
       "      <th>age</th>\n",
       "      <th>policy_number</th>\n",
       "      <th>policy_bind_date</th>\n",
       "      <th>policy_state</th>\n",
       "      <th>policy_csl</th>\n",
       "      <th>policy_deductable</th>\n",
       "      <th>policy_annual_premium</th>\n",
       "      <th>umbrella_limit</th>\n",
       "      <th>insured_zip</th>\n",
       "      <th>...</th>\n",
       "      <th>police_report_available</th>\n",
       "      <th>total_claim_amount</th>\n",
       "      <th>injury_claim</th>\n",
       "      <th>property_claim</th>\n",
       "      <th>vehicle_claim</th>\n",
       "      <th>auto_make</th>\n",
       "      <th>auto_model</th>\n",
       "      <th>auto_year</th>\n",
       "      <th>fraud_reported</th>\n",
       "      <th>_c39</th>\n",
       "    </tr>\n",
       "  </thead>\n",
       "  <tbody>\n",
       "    <tr>\n",
       "      <th>0</th>\n",
       "      <td>328</td>\n",
       "      <td>48</td>\n",
       "      <td>521585</td>\n",
       "      <td>17-10-2014</td>\n",
       "      <td>OH</td>\n",
       "      <td>250/500</td>\n",
       "      <td>1000</td>\n",
       "      <td>1406.91</td>\n",
       "      <td>0</td>\n",
       "      <td>466132</td>\n",
       "      <td>...</td>\n",
       "      <td>YES</td>\n",
       "      <td>71610</td>\n",
       "      <td>6510</td>\n",
       "      <td>13020</td>\n",
       "      <td>52080</td>\n",
       "      <td>Saab</td>\n",
       "      <td>92x</td>\n",
       "      <td>2004</td>\n",
       "      <td>Y</td>\n",
       "      <td>NaN</td>\n",
       "    </tr>\n",
       "    <tr>\n",
       "      <th>1</th>\n",
       "      <td>228</td>\n",
       "      <td>42</td>\n",
       "      <td>342868</td>\n",
       "      <td>27-06-2006</td>\n",
       "      <td>IN</td>\n",
       "      <td>250/500</td>\n",
       "      <td>2000</td>\n",
       "      <td>1197.22</td>\n",
       "      <td>5000000</td>\n",
       "      <td>468176</td>\n",
       "      <td>...</td>\n",
       "      <td>?</td>\n",
       "      <td>5070</td>\n",
       "      <td>780</td>\n",
       "      <td>780</td>\n",
       "      <td>3510</td>\n",
       "      <td>Mercedes</td>\n",
       "      <td>E400</td>\n",
       "      <td>2007</td>\n",
       "      <td>Y</td>\n",
       "      <td>NaN</td>\n",
       "    </tr>\n",
       "    <tr>\n",
       "      <th>2</th>\n",
       "      <td>134</td>\n",
       "      <td>29</td>\n",
       "      <td>687698</td>\n",
       "      <td>06-09-2000</td>\n",
       "      <td>OH</td>\n",
       "      <td>100/300</td>\n",
       "      <td>2000</td>\n",
       "      <td>1413.14</td>\n",
       "      <td>5000000</td>\n",
       "      <td>430632</td>\n",
       "      <td>...</td>\n",
       "      <td>NO</td>\n",
       "      <td>34650</td>\n",
       "      <td>7700</td>\n",
       "      <td>3850</td>\n",
       "      <td>23100</td>\n",
       "      <td>Dodge</td>\n",
       "      <td>RAM</td>\n",
       "      <td>2007</td>\n",
       "      <td>N</td>\n",
       "      <td>NaN</td>\n",
       "    </tr>\n",
       "    <tr>\n",
       "      <th>3</th>\n",
       "      <td>256</td>\n",
       "      <td>41</td>\n",
       "      <td>227811</td>\n",
       "      <td>25-05-1990</td>\n",
       "      <td>IL</td>\n",
       "      <td>250/500</td>\n",
       "      <td>2000</td>\n",
       "      <td>1415.74</td>\n",
       "      <td>6000000</td>\n",
       "      <td>608117</td>\n",
       "      <td>...</td>\n",
       "      <td>NO</td>\n",
       "      <td>63400</td>\n",
       "      <td>6340</td>\n",
       "      <td>6340</td>\n",
       "      <td>50720</td>\n",
       "      <td>Chevrolet</td>\n",
       "      <td>Tahoe</td>\n",
       "      <td>2014</td>\n",
       "      <td>Y</td>\n",
       "      <td>NaN</td>\n",
       "    </tr>\n",
       "    <tr>\n",
       "      <th>4</th>\n",
       "      <td>228</td>\n",
       "      <td>44</td>\n",
       "      <td>367455</td>\n",
       "      <td>06-06-2014</td>\n",
       "      <td>IL</td>\n",
       "      <td>500/1000</td>\n",
       "      <td>1000</td>\n",
       "      <td>1583.91</td>\n",
       "      <td>6000000</td>\n",
       "      <td>610706</td>\n",
       "      <td>...</td>\n",
       "      <td>NO</td>\n",
       "      <td>6500</td>\n",
       "      <td>1300</td>\n",
       "      <td>650</td>\n",
       "      <td>4550</td>\n",
       "      <td>Accura</td>\n",
       "      <td>RSX</td>\n",
       "      <td>2009</td>\n",
       "      <td>N</td>\n",
       "      <td>NaN</td>\n",
       "    </tr>\n",
       "    <tr>\n",
       "      <th>5</th>\n",
       "      <td>256</td>\n",
       "      <td>39</td>\n",
       "      <td>104594</td>\n",
       "      <td>12-10-2006</td>\n",
       "      <td>OH</td>\n",
       "      <td>250/500</td>\n",
       "      <td>1000</td>\n",
       "      <td>1351.10</td>\n",
       "      <td>0</td>\n",
       "      <td>478456</td>\n",
       "      <td>...</td>\n",
       "      <td>NO</td>\n",
       "      <td>64100</td>\n",
       "      <td>6410</td>\n",
       "      <td>6410</td>\n",
       "      <td>51280</td>\n",
       "      <td>Saab</td>\n",
       "      <td>95</td>\n",
       "      <td>2003</td>\n",
       "      <td>Y</td>\n",
       "      <td>NaN</td>\n",
       "    </tr>\n",
       "    <tr>\n",
       "      <th>6</th>\n",
       "      <td>137</td>\n",
       "      <td>34</td>\n",
       "      <td>413978</td>\n",
       "      <td>04-06-2000</td>\n",
       "      <td>IN</td>\n",
       "      <td>250/500</td>\n",
       "      <td>1000</td>\n",
       "      <td>1333.35</td>\n",
       "      <td>0</td>\n",
       "      <td>441716</td>\n",
       "      <td>...</td>\n",
       "      <td>?</td>\n",
       "      <td>78650</td>\n",
       "      <td>21450</td>\n",
       "      <td>7150</td>\n",
       "      <td>50050</td>\n",
       "      <td>Nissan</td>\n",
       "      <td>Pathfinder</td>\n",
       "      <td>2012</td>\n",
       "      <td>N</td>\n",
       "      <td>NaN</td>\n",
       "    </tr>\n",
       "    <tr>\n",
       "      <th>7</th>\n",
       "      <td>165</td>\n",
       "      <td>37</td>\n",
       "      <td>429027</td>\n",
       "      <td>03-02-1990</td>\n",
       "      <td>IL</td>\n",
       "      <td>100/300</td>\n",
       "      <td>1000</td>\n",
       "      <td>1137.03</td>\n",
       "      <td>0</td>\n",
       "      <td>603195</td>\n",
       "      <td>...</td>\n",
       "      <td>YES</td>\n",
       "      <td>51590</td>\n",
       "      <td>9380</td>\n",
       "      <td>9380</td>\n",
       "      <td>32830</td>\n",
       "      <td>Audi</td>\n",
       "      <td>A5</td>\n",
       "      <td>2015</td>\n",
       "      <td>N</td>\n",
       "      <td>NaN</td>\n",
       "    </tr>\n",
       "    <tr>\n",
       "      <th>8</th>\n",
       "      <td>27</td>\n",
       "      <td>33</td>\n",
       "      <td>485665</td>\n",
       "      <td>05-02-1997</td>\n",
       "      <td>IL</td>\n",
       "      <td>100/300</td>\n",
       "      <td>500</td>\n",
       "      <td>1442.99</td>\n",
       "      <td>0</td>\n",
       "      <td>601734</td>\n",
       "      <td>...</td>\n",
       "      <td>YES</td>\n",
       "      <td>27700</td>\n",
       "      <td>2770</td>\n",
       "      <td>2770</td>\n",
       "      <td>22160</td>\n",
       "      <td>Toyota</td>\n",
       "      <td>Camry</td>\n",
       "      <td>2012</td>\n",
       "      <td>N</td>\n",
       "      <td>NaN</td>\n",
       "    </tr>\n",
       "    <tr>\n",
       "      <th>9</th>\n",
       "      <td>212</td>\n",
       "      <td>42</td>\n",
       "      <td>636550</td>\n",
       "      <td>25-07-2011</td>\n",
       "      <td>IL</td>\n",
       "      <td>100/300</td>\n",
       "      <td>500</td>\n",
       "      <td>1315.68</td>\n",
       "      <td>0</td>\n",
       "      <td>600983</td>\n",
       "      <td>...</td>\n",
       "      <td>?</td>\n",
       "      <td>42300</td>\n",
       "      <td>4700</td>\n",
       "      <td>4700</td>\n",
       "      <td>32900</td>\n",
       "      <td>Saab</td>\n",
       "      <td>92x</td>\n",
       "      <td>1996</td>\n",
       "      <td>N</td>\n",
       "      <td>NaN</td>\n",
       "    </tr>\n",
       "    <tr>\n",
       "      <th>10</th>\n",
       "      <td>235</td>\n",
       "      <td>42</td>\n",
       "      <td>543610</td>\n",
       "      <td>26-05-2002</td>\n",
       "      <td>OH</td>\n",
       "      <td>100/300</td>\n",
       "      <td>500</td>\n",
       "      <td>1253.12</td>\n",
       "      <td>4000000</td>\n",
       "      <td>462283</td>\n",
       "      <td>...</td>\n",
       "      <td>?</td>\n",
       "      <td>87010</td>\n",
       "      <td>7910</td>\n",
       "      <td>15820</td>\n",
       "      <td>63280</td>\n",
       "      <td>Ford</td>\n",
       "      <td>F150</td>\n",
       "      <td>2002</td>\n",
       "      <td>N</td>\n",
       "      <td>NaN</td>\n",
       "    </tr>\n",
       "    <tr>\n",
       "      <th>11</th>\n",
       "      <td>447</td>\n",
       "      <td>61</td>\n",
       "      <td>214618</td>\n",
       "      <td>29-05-1999</td>\n",
       "      <td>OH</td>\n",
       "      <td>100/300</td>\n",
       "      <td>2000</td>\n",
       "      <td>1137.16</td>\n",
       "      <td>0</td>\n",
       "      <td>615561</td>\n",
       "      <td>...</td>\n",
       "      <td>YES</td>\n",
       "      <td>114920</td>\n",
       "      <td>17680</td>\n",
       "      <td>17680</td>\n",
       "      <td>79560</td>\n",
       "      <td>Audi</td>\n",
       "      <td>A3</td>\n",
       "      <td>2006</td>\n",
       "      <td>N</td>\n",
       "      <td>NaN</td>\n",
       "    </tr>\n",
       "    <tr>\n",
       "      <th>12</th>\n",
       "      <td>60</td>\n",
       "      <td>23</td>\n",
       "      <td>842643</td>\n",
       "      <td>20-11-1997</td>\n",
       "      <td>OH</td>\n",
       "      <td>500/1000</td>\n",
       "      <td>500</td>\n",
       "      <td>1215.36</td>\n",
       "      <td>3000000</td>\n",
       "      <td>432220</td>\n",
       "      <td>...</td>\n",
       "      <td>NO</td>\n",
       "      <td>56520</td>\n",
       "      <td>4710</td>\n",
       "      <td>9420</td>\n",
       "      <td>42390</td>\n",
       "      <td>Saab</td>\n",
       "      <td>95</td>\n",
       "      <td>2000</td>\n",
       "      <td>N</td>\n",
       "      <td>NaN</td>\n",
       "    </tr>\n",
       "    <tr>\n",
       "      <th>13</th>\n",
       "      <td>121</td>\n",
       "      <td>34</td>\n",
       "      <td>626808</td>\n",
       "      <td>26-10-2012</td>\n",
       "      <td>OH</td>\n",
       "      <td>100/300</td>\n",
       "      <td>1000</td>\n",
       "      <td>936.61</td>\n",
       "      <td>0</td>\n",
       "      <td>464652</td>\n",
       "      <td>...</td>\n",
       "      <td>NO</td>\n",
       "      <td>7280</td>\n",
       "      <td>1120</td>\n",
       "      <td>1120</td>\n",
       "      <td>5040</td>\n",
       "      <td>Toyota</td>\n",
       "      <td>Highlander</td>\n",
       "      <td>2010</td>\n",
       "      <td>N</td>\n",
       "      <td>NaN</td>\n",
       "    </tr>\n",
       "    <tr>\n",
       "      <th>14</th>\n",
       "      <td>180</td>\n",
       "      <td>38</td>\n",
       "      <td>644081</td>\n",
       "      <td>28-12-1998</td>\n",
       "      <td>OH</td>\n",
       "      <td>250/500</td>\n",
       "      <td>2000</td>\n",
       "      <td>1301.13</td>\n",
       "      <td>0</td>\n",
       "      <td>476685</td>\n",
       "      <td>...</td>\n",
       "      <td>YES</td>\n",
       "      <td>46200</td>\n",
       "      <td>4200</td>\n",
       "      <td>8400</td>\n",
       "      <td>33600</td>\n",
       "      <td>Dodge</td>\n",
       "      <td>Neon</td>\n",
       "      <td>2003</td>\n",
       "      <td>Y</td>\n",
       "      <td>NaN</td>\n",
       "    </tr>\n",
       "    <tr>\n",
       "      <th>15</th>\n",
       "      <td>473</td>\n",
       "      <td>58</td>\n",
       "      <td>892874</td>\n",
       "      <td>19-10-1992</td>\n",
       "      <td>IN</td>\n",
       "      <td>100/300</td>\n",
       "      <td>2000</td>\n",
       "      <td>1131.40</td>\n",
       "      <td>0</td>\n",
       "      <td>458733</td>\n",
       "      <td>...</td>\n",
       "      <td>NO</td>\n",
       "      <td>63120</td>\n",
       "      <td>10520</td>\n",
       "      <td>10520</td>\n",
       "      <td>42080</td>\n",
       "      <td>Accura</td>\n",
       "      <td>MDX</td>\n",
       "      <td>1999</td>\n",
       "      <td>Y</td>\n",
       "      <td>NaN</td>\n",
       "    </tr>\n",
       "    <tr>\n",
       "      <th>16</th>\n",
       "      <td>70</td>\n",
       "      <td>26</td>\n",
       "      <td>558938</td>\n",
       "      <td>08-06-2005</td>\n",
       "      <td>OH</td>\n",
       "      <td>500/1000</td>\n",
       "      <td>1000</td>\n",
       "      <td>1199.44</td>\n",
       "      <td>5000000</td>\n",
       "      <td>619884</td>\n",
       "      <td>...</td>\n",
       "      <td>YES</td>\n",
       "      <td>52110</td>\n",
       "      <td>5790</td>\n",
       "      <td>5790</td>\n",
       "      <td>40530</td>\n",
       "      <td>Nissan</td>\n",
       "      <td>Maxima</td>\n",
       "      <td>2012</td>\n",
       "      <td>N</td>\n",
       "      <td>NaN</td>\n",
       "    </tr>\n",
       "    <tr>\n",
       "      <th>17</th>\n",
       "      <td>140</td>\n",
       "      <td>31</td>\n",
       "      <td>275265</td>\n",
       "      <td>15-11-2004</td>\n",
       "      <td>IN</td>\n",
       "      <td>500/1000</td>\n",
       "      <td>500</td>\n",
       "      <td>708.64</td>\n",
       "      <td>6000000</td>\n",
       "      <td>470610</td>\n",
       "      <td>...</td>\n",
       "      <td>YES</td>\n",
       "      <td>77880</td>\n",
       "      <td>14160</td>\n",
       "      <td>7080</td>\n",
       "      <td>56640</td>\n",
       "      <td>Suburu</td>\n",
       "      <td>Legacy</td>\n",
       "      <td>2015</td>\n",
       "      <td>N</td>\n",
       "      <td>NaN</td>\n",
       "    </tr>\n",
       "    <tr>\n",
       "      <th>18</th>\n",
       "      <td>160</td>\n",
       "      <td>37</td>\n",
       "      <td>921202</td>\n",
       "      <td>28-12-2014</td>\n",
       "      <td>OH</td>\n",
       "      <td>500/1000</td>\n",
       "      <td>500</td>\n",
       "      <td>1374.22</td>\n",
       "      <td>0</td>\n",
       "      <td>472135</td>\n",
       "      <td>...</td>\n",
       "      <td>NO</td>\n",
       "      <td>72930</td>\n",
       "      <td>6630</td>\n",
       "      <td>13260</td>\n",
       "      <td>53040</td>\n",
       "      <td>Accura</td>\n",
       "      <td>TL</td>\n",
       "      <td>2015</td>\n",
       "      <td>N</td>\n",
       "      <td>NaN</td>\n",
       "    </tr>\n",
       "    <tr>\n",
       "      <th>19</th>\n",
       "      <td>196</td>\n",
       "      <td>39</td>\n",
       "      <td>143972</td>\n",
       "      <td>02-08-1992</td>\n",
       "      <td>IN</td>\n",
       "      <td>500/1000</td>\n",
       "      <td>2000</td>\n",
       "      <td>1475.73</td>\n",
       "      <td>0</td>\n",
       "      <td>477670</td>\n",
       "      <td>...</td>\n",
       "      <td>NO</td>\n",
       "      <td>60400</td>\n",
       "      <td>6040</td>\n",
       "      <td>6040</td>\n",
       "      <td>48320</td>\n",
       "      <td>Nissan</td>\n",
       "      <td>Pathfinder</td>\n",
       "      <td>2014</td>\n",
       "      <td>N</td>\n",
       "      <td>NaN</td>\n",
       "    </tr>\n",
       "  </tbody>\n",
       "</table>\n",
       "<p>20 rows × 40 columns</p>\n",
       "</div>"
      ],
      "text/plain": [
       "    months_as_customer  age  policy_number policy_bind_date policy_state  \\\n",
       "0                  328   48         521585       17-10-2014           OH   \n",
       "1                  228   42         342868       27-06-2006           IN   \n",
       "2                  134   29         687698       06-09-2000           OH   \n",
       "3                  256   41         227811       25-05-1990           IL   \n",
       "4                  228   44         367455       06-06-2014           IL   \n",
       "5                  256   39         104594       12-10-2006           OH   \n",
       "6                  137   34         413978       04-06-2000           IN   \n",
       "7                  165   37         429027       03-02-1990           IL   \n",
       "8                   27   33         485665       05-02-1997           IL   \n",
       "9                  212   42         636550       25-07-2011           IL   \n",
       "10                 235   42         543610       26-05-2002           OH   \n",
       "11                 447   61         214618       29-05-1999           OH   \n",
       "12                  60   23         842643       20-11-1997           OH   \n",
       "13                 121   34         626808       26-10-2012           OH   \n",
       "14                 180   38         644081       28-12-1998           OH   \n",
       "15                 473   58         892874       19-10-1992           IN   \n",
       "16                  70   26         558938       08-06-2005           OH   \n",
       "17                 140   31         275265       15-11-2004           IN   \n",
       "18                 160   37         921202       28-12-2014           OH   \n",
       "19                 196   39         143972       02-08-1992           IN   \n",
       "\n",
       "   policy_csl  policy_deductable  policy_annual_premium  umbrella_limit  \\\n",
       "0     250/500               1000                1406.91               0   \n",
       "1     250/500               2000                1197.22         5000000   \n",
       "2     100/300               2000                1413.14         5000000   \n",
       "3     250/500               2000                1415.74         6000000   \n",
       "4    500/1000               1000                1583.91         6000000   \n",
       "5     250/500               1000                1351.10               0   \n",
       "6     250/500               1000                1333.35               0   \n",
       "7     100/300               1000                1137.03               0   \n",
       "8     100/300                500                1442.99               0   \n",
       "9     100/300                500                1315.68               0   \n",
       "10    100/300                500                1253.12         4000000   \n",
       "11    100/300               2000                1137.16               0   \n",
       "12   500/1000                500                1215.36         3000000   \n",
       "13    100/300               1000                 936.61               0   \n",
       "14    250/500               2000                1301.13               0   \n",
       "15    100/300               2000                1131.40               0   \n",
       "16   500/1000               1000                1199.44         5000000   \n",
       "17   500/1000                500                 708.64         6000000   \n",
       "18   500/1000                500                1374.22               0   \n",
       "19   500/1000               2000                1475.73               0   \n",
       "\n",
       "    insured_zip  ... police_report_available total_claim_amount injury_claim  \\\n",
       "0        466132  ...                     YES              71610         6510   \n",
       "1        468176  ...                       ?               5070          780   \n",
       "2        430632  ...                      NO              34650         7700   \n",
       "3        608117  ...                      NO              63400         6340   \n",
       "4        610706  ...                      NO               6500         1300   \n",
       "5        478456  ...                      NO              64100         6410   \n",
       "6        441716  ...                       ?              78650        21450   \n",
       "7        603195  ...                     YES              51590         9380   \n",
       "8        601734  ...                     YES              27700         2770   \n",
       "9        600983  ...                       ?              42300         4700   \n",
       "10       462283  ...                       ?              87010         7910   \n",
       "11       615561  ...                     YES             114920        17680   \n",
       "12       432220  ...                      NO              56520         4710   \n",
       "13       464652  ...                      NO               7280         1120   \n",
       "14       476685  ...                     YES              46200         4200   \n",
       "15       458733  ...                      NO              63120        10520   \n",
       "16       619884  ...                     YES              52110         5790   \n",
       "17       470610  ...                     YES              77880        14160   \n",
       "18       472135  ...                      NO              72930         6630   \n",
       "19       477670  ...                      NO              60400         6040   \n",
       "\n",
       "   property_claim vehicle_claim  auto_make  auto_model auto_year  \\\n",
       "0           13020         52080       Saab         92x      2004   \n",
       "1             780          3510   Mercedes        E400      2007   \n",
       "2            3850         23100      Dodge         RAM      2007   \n",
       "3            6340         50720  Chevrolet       Tahoe      2014   \n",
       "4             650          4550     Accura         RSX      2009   \n",
       "5            6410         51280       Saab          95      2003   \n",
       "6            7150         50050     Nissan  Pathfinder      2012   \n",
       "7            9380         32830       Audi          A5      2015   \n",
       "8            2770         22160     Toyota       Camry      2012   \n",
       "9            4700         32900       Saab         92x      1996   \n",
       "10          15820         63280       Ford        F150      2002   \n",
       "11          17680         79560       Audi          A3      2006   \n",
       "12           9420         42390       Saab          95      2000   \n",
       "13           1120          5040     Toyota  Highlander      2010   \n",
       "14           8400         33600      Dodge        Neon      2003   \n",
       "15          10520         42080     Accura         MDX      1999   \n",
       "16           5790         40530     Nissan      Maxima      2012   \n",
       "17           7080         56640     Suburu      Legacy      2015   \n",
       "18          13260         53040     Accura          TL      2015   \n",
       "19           6040         48320     Nissan  Pathfinder      2014   \n",
       "\n",
       "   fraud_reported _c39  \n",
       "0               Y  NaN  \n",
       "1               Y  NaN  \n",
       "2               N  NaN  \n",
       "3               Y  NaN  \n",
       "4               N  NaN  \n",
       "5               Y  NaN  \n",
       "6               N  NaN  \n",
       "7               N  NaN  \n",
       "8               N  NaN  \n",
       "9               N  NaN  \n",
       "10              N  NaN  \n",
       "11              N  NaN  \n",
       "12              N  NaN  \n",
       "13              N  NaN  \n",
       "14              Y  NaN  \n",
       "15              Y  NaN  \n",
       "16              N  NaN  \n",
       "17              N  NaN  \n",
       "18              N  NaN  \n",
       "19              N  NaN  \n",
       "\n",
       "[20 rows x 40 columns]"
      ]
     },
     "execution_count": 348,
     "metadata": {},
     "output_type": "execute_result"
    }
   ],
   "source": [
    "df.head(20)"
   ]
  },
  {
   "cell_type": "code",
   "execution_count": 349,
   "id": "8b4ec213",
   "metadata": {},
   "outputs": [
    {
     "data": {
      "text/plain": [
       "(1000, 40)"
      ]
     },
     "execution_count": 349,
     "metadata": {},
     "output_type": "execute_result"
    }
   ],
   "source": [
    "#now of rows and columns of dataset ie 1000 rows and 40 columns\n",
    "df.shape"
   ]
  },
  {
   "cell_type": "code",
   "execution_count": 350,
   "id": "286babb7",
   "metadata": {},
   "outputs": [
    {
     "name": "stdout",
     "output_type": "stream",
     "text": [
      "<class 'pandas.core.frame.DataFrame'>\n",
      "RangeIndex: 1000 entries, 0 to 999\n",
      "Data columns (total 40 columns):\n",
      " #   Column                       Non-Null Count  Dtype  \n",
      "---  ------                       --------------  -----  \n",
      " 0   months_as_customer           1000 non-null   int64  \n",
      " 1   age                          1000 non-null   int64  \n",
      " 2   policy_number                1000 non-null   int64  \n",
      " 3   policy_bind_date             1000 non-null   object \n",
      " 4   policy_state                 1000 non-null   object \n",
      " 5   policy_csl                   1000 non-null   object \n",
      " 6   policy_deductable            1000 non-null   int64  \n",
      " 7   policy_annual_premium        1000 non-null   float64\n",
      " 8   umbrella_limit               1000 non-null   int64  \n",
      " 9   insured_zip                  1000 non-null   int64  \n",
      " 10  insured_sex                  1000 non-null   object \n",
      " 11  insured_education_level      1000 non-null   object \n",
      " 12  insured_occupation           1000 non-null   object \n",
      " 13  insured_hobbies              1000 non-null   object \n",
      " 14  insured_relationship         1000 non-null   object \n",
      " 15  capital-gains                1000 non-null   int64  \n",
      " 16  capital-loss                 1000 non-null   int64  \n",
      " 17  incident_date                1000 non-null   object \n",
      " 18  incident_type                1000 non-null   object \n",
      " 19  collision_type               1000 non-null   object \n",
      " 20  incident_severity            1000 non-null   object \n",
      " 21  authorities_contacted        1000 non-null   object \n",
      " 22  incident_state               1000 non-null   object \n",
      " 23  incident_city                1000 non-null   object \n",
      " 24  incident_location            1000 non-null   object \n",
      " 25  incident_hour_of_the_day     1000 non-null   int64  \n",
      " 26  number_of_vehicles_involved  1000 non-null   int64  \n",
      " 27  property_damage              1000 non-null   object \n",
      " 28  bodily_injuries              1000 non-null   int64  \n",
      " 29  witnesses                    1000 non-null   int64  \n",
      " 30  police_report_available      1000 non-null   object \n",
      " 31  total_claim_amount           1000 non-null   int64  \n",
      " 32  injury_claim                 1000 non-null   int64  \n",
      " 33  property_claim               1000 non-null   int64  \n",
      " 34  vehicle_claim                1000 non-null   int64  \n",
      " 35  auto_make                    1000 non-null   object \n",
      " 36  auto_model                   1000 non-null   object \n",
      " 37  auto_year                    1000 non-null   int64  \n",
      " 38  fraud_reported               1000 non-null   object \n",
      " 39  _c39                         0 non-null      float64\n",
      "dtypes: float64(2), int64(17), object(21)\n",
      "memory usage: 312.6+ KB\n"
     ]
    }
   ],
   "source": [
    "df.info()"
   ]
  },
  {
   "cell_type": "code",
   "execution_count": 351,
   "id": "66d86373",
   "metadata": {},
   "outputs": [
    {
     "name": "stdout",
     "output_type": "stream",
     "text": [
      "The number of categorical variables are {}  21\n",
      "The categorical variables are {} ['policy_bind_date', 'policy_state', 'policy_csl', 'insured_sex', 'insured_education_level', 'insured_occupation', 'insured_hobbies', 'insured_relationship', 'incident_date', 'incident_type', 'collision_type', 'incident_severity', 'authorities_contacted', 'incident_state', 'incident_city', 'incident_location', 'property_damage', 'police_report_available', 'auto_make', 'auto_model', 'fraud_reported']\n"
     ]
    }
   ],
   "source": [
    "#separete categorical and numerical data\n",
    "categorical_data=[i for i in df.columns if df[i].dtype==\"O\"]\n",
    "print(\"The number of categorical variables are {} \",len(categorical_data))\n",
    "print(\"The categorical variables are {}\",categorical_data)\n",
    "\n",
    "    "
   ]
  },
  {
   "cell_type": "code",
   "execution_count": 352,
   "id": "8e8f2a8f",
   "metadata": {},
   "outputs": [
    {
     "name": "stdout",
     "output_type": "stream",
     "text": [
      "The number of numerical variables are {}  19\n",
      "The numerical variables are {} ['months_as_customer', 'age', 'policy_number', 'policy_deductable', 'policy_annual_premium', 'umbrella_limit', 'insured_zip', 'capital-gains', 'capital-loss', 'incident_hour_of_the_day', 'number_of_vehicles_involved', 'bodily_injuries', 'witnesses', 'total_claim_amount', 'injury_claim', 'property_claim', 'vehicle_claim', 'auto_year', '_c39']\n"
     ]
    }
   ],
   "source": [
    "numerical_columns=[i for i in df.columns if df[i].dtype!=\"O\"]\n",
    "print(\"The number of numerical variables are {} \",len(numerical_columns))\n",
    "print(\"The numerical variables are {}\",numerical_columns)"
   ]
  },
  {
   "cell_type": "code",
   "execution_count": 353,
   "id": "a062363d",
   "metadata": {},
   "outputs": [
    {
     "data": {
      "text/html": [
       "<div>\n",
       "<style scoped>\n",
       "    .dataframe tbody tr th:only-of-type {\n",
       "        vertical-align: middle;\n",
       "    }\n",
       "\n",
       "    .dataframe tbody tr th {\n",
       "        vertical-align: top;\n",
       "    }\n",
       "\n",
       "    .dataframe thead th {\n",
       "        text-align: right;\n",
       "    }\n",
       "</style>\n",
       "<table border=\"1\" class=\"dataframe\">\n",
       "  <thead>\n",
       "    <tr style=\"text-align: right;\">\n",
       "      <th></th>\n",
       "      <th>months_as_customer</th>\n",
       "      <th>age</th>\n",
       "      <th>policy_number</th>\n",
       "      <th>policy_deductable</th>\n",
       "      <th>policy_annual_premium</th>\n",
       "      <th>umbrella_limit</th>\n",
       "      <th>insured_zip</th>\n",
       "      <th>capital-gains</th>\n",
       "      <th>capital-loss</th>\n",
       "      <th>incident_hour_of_the_day</th>\n",
       "      <th>number_of_vehicles_involved</th>\n",
       "      <th>bodily_injuries</th>\n",
       "      <th>witnesses</th>\n",
       "      <th>total_claim_amount</th>\n",
       "      <th>injury_claim</th>\n",
       "      <th>property_claim</th>\n",
       "      <th>vehicle_claim</th>\n",
       "      <th>auto_year</th>\n",
       "      <th>_c39</th>\n",
       "    </tr>\n",
       "  </thead>\n",
       "  <tbody>\n",
       "    <tr>\n",
       "      <th>count</th>\n",
       "      <td>1000.000000</td>\n",
       "      <td>1000.000000</td>\n",
       "      <td>1000.000000</td>\n",
       "      <td>1000.000000</td>\n",
       "      <td>1000.000000</td>\n",
       "      <td>1.000000e+03</td>\n",
       "      <td>1000.000000</td>\n",
       "      <td>1000.000000</td>\n",
       "      <td>1000.000000</td>\n",
       "      <td>1000.000000</td>\n",
       "      <td>1000.00000</td>\n",
       "      <td>1000.000000</td>\n",
       "      <td>1000.000000</td>\n",
       "      <td>1000.00000</td>\n",
       "      <td>1000.000000</td>\n",
       "      <td>1000.000000</td>\n",
       "      <td>1000.000000</td>\n",
       "      <td>1000.000000</td>\n",
       "      <td>0.0</td>\n",
       "    </tr>\n",
       "    <tr>\n",
       "      <th>mean</th>\n",
       "      <td>203.954000</td>\n",
       "      <td>38.948000</td>\n",
       "      <td>546238.648000</td>\n",
       "      <td>1136.000000</td>\n",
       "      <td>1256.406150</td>\n",
       "      <td>1.101000e+06</td>\n",
       "      <td>501214.488000</td>\n",
       "      <td>25126.100000</td>\n",
       "      <td>-26793.700000</td>\n",
       "      <td>11.644000</td>\n",
       "      <td>1.83900</td>\n",
       "      <td>0.992000</td>\n",
       "      <td>1.487000</td>\n",
       "      <td>52761.94000</td>\n",
       "      <td>7433.420000</td>\n",
       "      <td>7399.570000</td>\n",
       "      <td>37928.950000</td>\n",
       "      <td>2005.103000</td>\n",
       "      <td>NaN</td>\n",
       "    </tr>\n",
       "    <tr>\n",
       "      <th>std</th>\n",
       "      <td>115.113174</td>\n",
       "      <td>9.140287</td>\n",
       "      <td>257063.005276</td>\n",
       "      <td>611.864673</td>\n",
       "      <td>244.167395</td>\n",
       "      <td>2.297407e+06</td>\n",
       "      <td>71701.610941</td>\n",
       "      <td>27872.187708</td>\n",
       "      <td>28104.096686</td>\n",
       "      <td>6.951373</td>\n",
       "      <td>1.01888</td>\n",
       "      <td>0.820127</td>\n",
       "      <td>1.111335</td>\n",
       "      <td>26401.53319</td>\n",
       "      <td>4880.951853</td>\n",
       "      <td>4824.726179</td>\n",
       "      <td>18886.252893</td>\n",
       "      <td>6.015861</td>\n",
       "      <td>NaN</td>\n",
       "    </tr>\n",
       "    <tr>\n",
       "      <th>min</th>\n",
       "      <td>0.000000</td>\n",
       "      <td>19.000000</td>\n",
       "      <td>100804.000000</td>\n",
       "      <td>500.000000</td>\n",
       "      <td>433.330000</td>\n",
       "      <td>-1.000000e+06</td>\n",
       "      <td>430104.000000</td>\n",
       "      <td>0.000000</td>\n",
       "      <td>-111100.000000</td>\n",
       "      <td>0.000000</td>\n",
       "      <td>1.00000</td>\n",
       "      <td>0.000000</td>\n",
       "      <td>0.000000</td>\n",
       "      <td>100.00000</td>\n",
       "      <td>0.000000</td>\n",
       "      <td>0.000000</td>\n",
       "      <td>70.000000</td>\n",
       "      <td>1995.000000</td>\n",
       "      <td>NaN</td>\n",
       "    </tr>\n",
       "    <tr>\n",
       "      <th>25%</th>\n",
       "      <td>115.750000</td>\n",
       "      <td>32.000000</td>\n",
       "      <td>335980.250000</td>\n",
       "      <td>500.000000</td>\n",
       "      <td>1089.607500</td>\n",
       "      <td>0.000000e+00</td>\n",
       "      <td>448404.500000</td>\n",
       "      <td>0.000000</td>\n",
       "      <td>-51500.000000</td>\n",
       "      <td>6.000000</td>\n",
       "      <td>1.00000</td>\n",
       "      <td>0.000000</td>\n",
       "      <td>1.000000</td>\n",
       "      <td>41812.50000</td>\n",
       "      <td>4295.000000</td>\n",
       "      <td>4445.000000</td>\n",
       "      <td>30292.500000</td>\n",
       "      <td>2000.000000</td>\n",
       "      <td>NaN</td>\n",
       "    </tr>\n",
       "    <tr>\n",
       "      <th>50%</th>\n",
       "      <td>199.500000</td>\n",
       "      <td>38.000000</td>\n",
       "      <td>533135.000000</td>\n",
       "      <td>1000.000000</td>\n",
       "      <td>1257.200000</td>\n",
       "      <td>0.000000e+00</td>\n",
       "      <td>466445.500000</td>\n",
       "      <td>0.000000</td>\n",
       "      <td>-23250.000000</td>\n",
       "      <td>12.000000</td>\n",
       "      <td>1.00000</td>\n",
       "      <td>1.000000</td>\n",
       "      <td>1.000000</td>\n",
       "      <td>58055.00000</td>\n",
       "      <td>6775.000000</td>\n",
       "      <td>6750.000000</td>\n",
       "      <td>42100.000000</td>\n",
       "      <td>2005.000000</td>\n",
       "      <td>NaN</td>\n",
       "    </tr>\n",
       "    <tr>\n",
       "      <th>75%</th>\n",
       "      <td>276.250000</td>\n",
       "      <td>44.000000</td>\n",
       "      <td>759099.750000</td>\n",
       "      <td>2000.000000</td>\n",
       "      <td>1415.695000</td>\n",
       "      <td>0.000000e+00</td>\n",
       "      <td>603251.000000</td>\n",
       "      <td>51025.000000</td>\n",
       "      <td>0.000000</td>\n",
       "      <td>17.000000</td>\n",
       "      <td>3.00000</td>\n",
       "      <td>2.000000</td>\n",
       "      <td>2.000000</td>\n",
       "      <td>70592.50000</td>\n",
       "      <td>11305.000000</td>\n",
       "      <td>10885.000000</td>\n",
       "      <td>50822.500000</td>\n",
       "      <td>2010.000000</td>\n",
       "      <td>NaN</td>\n",
       "    </tr>\n",
       "    <tr>\n",
       "      <th>max</th>\n",
       "      <td>479.000000</td>\n",
       "      <td>64.000000</td>\n",
       "      <td>999435.000000</td>\n",
       "      <td>2000.000000</td>\n",
       "      <td>2047.590000</td>\n",
       "      <td>1.000000e+07</td>\n",
       "      <td>620962.000000</td>\n",
       "      <td>100500.000000</td>\n",
       "      <td>0.000000</td>\n",
       "      <td>23.000000</td>\n",
       "      <td>4.00000</td>\n",
       "      <td>2.000000</td>\n",
       "      <td>3.000000</td>\n",
       "      <td>114920.00000</td>\n",
       "      <td>21450.000000</td>\n",
       "      <td>23670.000000</td>\n",
       "      <td>79560.000000</td>\n",
       "      <td>2015.000000</td>\n",
       "      <td>NaN</td>\n",
       "    </tr>\n",
       "  </tbody>\n",
       "</table>\n",
       "</div>"
      ],
      "text/plain": [
       "       months_as_customer          age  policy_number  policy_deductable  \\\n",
       "count         1000.000000  1000.000000    1000.000000        1000.000000   \n",
       "mean           203.954000    38.948000  546238.648000        1136.000000   \n",
       "std            115.113174     9.140287  257063.005276         611.864673   \n",
       "min              0.000000    19.000000  100804.000000         500.000000   \n",
       "25%            115.750000    32.000000  335980.250000         500.000000   \n",
       "50%            199.500000    38.000000  533135.000000        1000.000000   \n",
       "75%            276.250000    44.000000  759099.750000        2000.000000   \n",
       "max            479.000000    64.000000  999435.000000        2000.000000   \n",
       "\n",
       "       policy_annual_premium  umbrella_limit    insured_zip  capital-gains  \\\n",
       "count            1000.000000    1.000000e+03    1000.000000    1000.000000   \n",
       "mean             1256.406150    1.101000e+06  501214.488000   25126.100000   \n",
       "std               244.167395    2.297407e+06   71701.610941   27872.187708   \n",
       "min               433.330000   -1.000000e+06  430104.000000       0.000000   \n",
       "25%              1089.607500    0.000000e+00  448404.500000       0.000000   \n",
       "50%              1257.200000    0.000000e+00  466445.500000       0.000000   \n",
       "75%              1415.695000    0.000000e+00  603251.000000   51025.000000   \n",
       "max              2047.590000    1.000000e+07  620962.000000  100500.000000   \n",
       "\n",
       "        capital-loss  incident_hour_of_the_day  number_of_vehicles_involved  \\\n",
       "count    1000.000000               1000.000000                   1000.00000   \n",
       "mean   -26793.700000                 11.644000                      1.83900   \n",
       "std     28104.096686                  6.951373                      1.01888   \n",
       "min   -111100.000000                  0.000000                      1.00000   \n",
       "25%    -51500.000000                  6.000000                      1.00000   \n",
       "50%    -23250.000000                 12.000000                      1.00000   \n",
       "75%         0.000000                 17.000000                      3.00000   \n",
       "max         0.000000                 23.000000                      4.00000   \n",
       "\n",
       "       bodily_injuries    witnesses  total_claim_amount  injury_claim  \\\n",
       "count      1000.000000  1000.000000          1000.00000   1000.000000   \n",
       "mean          0.992000     1.487000         52761.94000   7433.420000   \n",
       "std           0.820127     1.111335         26401.53319   4880.951853   \n",
       "min           0.000000     0.000000           100.00000      0.000000   \n",
       "25%           0.000000     1.000000         41812.50000   4295.000000   \n",
       "50%           1.000000     1.000000         58055.00000   6775.000000   \n",
       "75%           2.000000     2.000000         70592.50000  11305.000000   \n",
       "max           2.000000     3.000000        114920.00000  21450.000000   \n",
       "\n",
       "       property_claim  vehicle_claim    auto_year  _c39  \n",
       "count     1000.000000    1000.000000  1000.000000   0.0  \n",
       "mean      7399.570000   37928.950000  2005.103000   NaN  \n",
       "std       4824.726179   18886.252893     6.015861   NaN  \n",
       "min          0.000000      70.000000  1995.000000   NaN  \n",
       "25%       4445.000000   30292.500000  2000.000000   NaN  \n",
       "50%       6750.000000   42100.000000  2005.000000   NaN  \n",
       "75%      10885.000000   50822.500000  2010.000000   NaN  \n",
       "max      23670.000000   79560.000000  2015.000000   NaN  "
      ]
     },
     "execution_count": 353,
     "metadata": {},
     "output_type": "execute_result"
    }
   ],
   "source": [
    "df.describe()"
   ]
  },
  {
   "cell_type": "code",
   "execution_count": 354,
   "id": "0d2b7648",
   "metadata": {},
   "outputs": [
    {
     "data": {
      "text/plain": [
       "months_as_customer                0\n",
       "age                               0\n",
       "policy_number                     0\n",
       "policy_bind_date                  0\n",
       "policy_state                      0\n",
       "policy_csl                        0\n",
       "policy_deductable                 0\n",
       "policy_annual_premium             0\n",
       "umbrella_limit                    0\n",
       "insured_zip                       0\n",
       "insured_sex                       0\n",
       "insured_education_level           0\n",
       "insured_occupation                0\n",
       "insured_hobbies                   0\n",
       "insured_relationship              0\n",
       "capital-gains                     0\n",
       "capital-loss                      0\n",
       "incident_date                     0\n",
       "incident_type                     0\n",
       "collision_type                    0\n",
       "incident_severity                 0\n",
       "authorities_contacted             0\n",
       "incident_state                    0\n",
       "incident_city                     0\n",
       "incident_location                 0\n",
       "incident_hour_of_the_day          0\n",
       "number_of_vehicles_involved       0\n",
       "property_damage                   0\n",
       "bodily_injuries                   0\n",
       "witnesses                         0\n",
       "police_report_available           0\n",
       "total_claim_amount                0\n",
       "injury_claim                      0\n",
       "property_claim                    0\n",
       "vehicle_claim                     0\n",
       "auto_make                         0\n",
       "auto_model                        0\n",
       "auto_year                         0\n",
       "fraud_reported                    0\n",
       "_c39                           1000\n",
       "dtype: int64"
      ]
     },
     "execution_count": 354,
     "metadata": {},
     "output_type": "execute_result"
    }
   ],
   "source": [
    "df.isnull().sum()\n",
    "#no null values are there"
   ]
  },
  {
   "cell_type": "code",
   "execution_count": 355,
   "id": "471ce097",
   "metadata": {},
   "outputs": [
    {
     "name": "stdout",
     "output_type": "stream",
     "text": [
      "------------policy_bind_date-------------------\n",
      "01-01-2006    3\n",
      "28-04-1992    3\n",
      "05-08-1992    3\n",
      "14-12-1991    2\n",
      "09-08-2004    2\n",
      "             ..\n",
      "03-06-2014    1\n",
      "12-12-1998    1\n",
      "18-02-1999    1\n",
      "30-10-1997    1\n",
      "11-11-1996    1\n",
      "Name: policy_bind_date, Length: 951, dtype: int64\n",
      "------------policy_state-------------------\n",
      "OH    352\n",
      "IL    338\n",
      "IN    310\n",
      "Name: policy_state, dtype: int64\n",
      "------------policy_csl-------------------\n",
      "250/500     351\n",
      "100/300     349\n",
      "500/1000    300\n",
      "Name: policy_csl, dtype: int64\n",
      "------------insured_sex-------------------\n",
      "FEMALE    537\n",
      "MALE      463\n",
      "Name: insured_sex, dtype: int64\n",
      "------------insured_education_level-------------------\n",
      "JD             161\n",
      "High School    160\n",
      "Associate      145\n",
      "MD             144\n",
      "Masters        143\n",
      "PhD            125\n",
      "College        122\n",
      "Name: insured_education_level, dtype: int64\n",
      "------------insured_occupation-------------------\n",
      "machine-op-inspct    93\n",
      "prof-specialty       85\n",
      "tech-support         78\n",
      "sales                76\n",
      "exec-managerial      76\n",
      "craft-repair         74\n",
      "transport-moving     72\n",
      "other-service        71\n",
      "priv-house-serv      71\n",
      "armed-forces         69\n",
      "adm-clerical         65\n",
      "protective-serv      63\n",
      "handlers-cleaners    54\n",
      "farming-fishing      53\n",
      "Name: insured_occupation, dtype: int64\n",
      "------------insured_hobbies-------------------\n",
      "reading           64\n",
      "exercise          57\n",
      "paintball         57\n",
      "bungie-jumping    56\n",
      "movies            55\n",
      "golf              55\n",
      "camping           55\n",
      "kayaking          54\n",
      "yachting          53\n",
      "hiking            52\n",
      "video-games       50\n",
      "skydiving         49\n",
      "base-jumping      49\n",
      "board-games       48\n",
      "polo              47\n",
      "chess             46\n",
      "dancing           43\n",
      "sleeping          41\n",
      "cross-fit         35\n",
      "basketball        34\n",
      "Name: insured_hobbies, dtype: int64\n",
      "------------insured_relationship-------------------\n",
      "own-child         183\n",
      "other-relative    177\n",
      "not-in-family     174\n",
      "husband           170\n",
      "wife              155\n",
      "unmarried         141\n",
      "Name: insured_relationship, dtype: int64\n",
      "------------incident_date-------------------\n",
      "02-02-2015    28\n",
      "17-02-2015    26\n",
      "07-01-2015    25\n",
      "10-01-2015    24\n",
      "04-02-2015    24\n",
      "24-01-2015    24\n",
      "19-01-2015    23\n",
      "08-01-2015    22\n",
      "13-01-2015    21\n",
      "30-01-2015    21\n",
      "12-02-2015    20\n",
      "22-02-2015    20\n",
      "31-01-2015    20\n",
      "06-02-2015    20\n",
      "21-02-2015    19\n",
      "01-01-2015    19\n",
      "23-02-2015    19\n",
      "12-01-2015    19\n",
      "14-01-2015    19\n",
      "21-01-2015    19\n",
      "03-01-2015    18\n",
      "14-02-2015    18\n",
      "01-02-2015    18\n",
      "28-02-2015    18\n",
      "20-01-2015    18\n",
      "18-01-2015    18\n",
      "25-02-2015    18\n",
      "06-01-2015    17\n",
      "09-01-2015    17\n",
      "08-02-2015    17\n",
      "24-02-2015    17\n",
      "26-02-2015    17\n",
      "13-02-2015    16\n",
      "15-02-2015    16\n",
      "16-02-2015    16\n",
      "05-02-2015    16\n",
      "16-01-2015    16\n",
      "17-01-2015    15\n",
      "18-02-2015    15\n",
      "28-01-2015    15\n",
      "15-01-2015    15\n",
      "22-01-2015    14\n",
      "20-02-2015    14\n",
      "27-02-2015    14\n",
      "23-01-2015    13\n",
      "03-02-2015    13\n",
      "27-01-2015    13\n",
      "09-02-2015    13\n",
      "04-01-2015    12\n",
      "01-03-2015    12\n",
      "26-01-2015    11\n",
      "29-01-2015    11\n",
      "02-01-2015    11\n",
      "19-02-2015    10\n",
      "11-02-2015    10\n",
      "10-02-2015    10\n",
      "07-02-2015    10\n",
      "25-01-2015    10\n",
      "11-01-2015     9\n",
      "05-01-2015     7\n",
      "Name: incident_date, dtype: int64\n",
      "------------incident_type-------------------\n",
      "Multi-vehicle Collision     419\n",
      "Single Vehicle Collision    403\n",
      "Vehicle Theft                94\n",
      "Parked Car                   84\n",
      "Name: incident_type, dtype: int64\n",
      "------------collision_type-------------------\n",
      "Rear Collision     292\n",
      "Side Collision     276\n",
      "Front Collision    254\n",
      "?                  178\n",
      "Name: collision_type, dtype: int64\n",
      "------------incident_severity-------------------\n",
      "Minor Damage      354\n",
      "Total Loss        280\n",
      "Major Damage      276\n",
      "Trivial Damage     90\n",
      "Name: incident_severity, dtype: int64\n",
      "------------authorities_contacted-------------------\n",
      "Police       292\n",
      "Fire         223\n",
      "Other        198\n",
      "Ambulance    196\n",
      "None          91\n",
      "Name: authorities_contacted, dtype: int64\n",
      "------------incident_state-------------------\n",
      "NY    262\n",
      "SC    248\n",
      "WV    217\n",
      "VA    110\n",
      "NC    110\n",
      "PA     30\n",
      "OH     23\n",
      "Name: incident_state, dtype: int64\n",
      "------------incident_city-------------------\n",
      "Springfield    157\n",
      "Arlington      152\n",
      "Columbus       149\n",
      "Northbend      145\n",
      "Hillsdale      141\n",
      "Riverwood      134\n",
      "Northbrook     122\n",
      "Name: incident_city, dtype: int64\n",
      "------------incident_location-------------------\n",
      "9935 4th Drive         1\n",
      "4214 MLK Ridge         1\n",
      "8548 Cherokee Ridge    1\n",
      "2352 MLK Drive         1\n",
      "9734 2nd Ridge         1\n",
      "                      ..\n",
      "6770 1st St            1\n",
      "4119 Texas St          1\n",
      "4347 2nd Ridge         1\n",
      "1091 1st Drive         1\n",
      "1416 Cherokee Ridge    1\n",
      "Name: incident_location, Length: 1000, dtype: int64\n",
      "------------property_damage-------------------\n",
      "?      360\n",
      "NO     338\n",
      "YES    302\n",
      "Name: property_damage, dtype: int64\n",
      "------------police_report_available-------------------\n",
      "?      343\n",
      "NO     343\n",
      "YES    314\n",
      "Name: police_report_available, dtype: int64\n",
      "------------auto_make-------------------\n",
      "Saab          80\n",
      "Dodge         80\n",
      "Suburu        80\n",
      "Nissan        78\n",
      "Chevrolet     76\n",
      "Ford          72\n",
      "BMW           72\n",
      "Toyota        70\n",
      "Audi          69\n",
      "Accura        68\n",
      "Volkswagen    68\n",
      "Jeep          67\n",
      "Mercedes      65\n",
      "Honda         55\n",
      "Name: auto_make, dtype: int64\n",
      "------------auto_model-------------------\n",
      "RAM               43\n",
      "Wrangler          42\n",
      "A3                37\n",
      "Neon              37\n",
      "MDX               36\n",
      "Jetta             35\n",
      "Passat            33\n",
      "A5                32\n",
      "Legacy            32\n",
      "Pathfinder        31\n",
      "Malibu            30\n",
      "92x               28\n",
      "Camry             28\n",
      "Forrestor         28\n",
      "F150              27\n",
      "95                27\n",
      "E400              27\n",
      "93                25\n",
      "Grand Cherokee    25\n",
      "Escape            24\n",
      "Tahoe             24\n",
      "Maxima            24\n",
      "Ultima            23\n",
      "X5                23\n",
      "Highlander        22\n",
      "Civic             22\n",
      "Silverado         22\n",
      "Fusion            21\n",
      "ML350             20\n",
      "Impreza           20\n",
      "Corolla           20\n",
      "TL                20\n",
      "CRV               20\n",
      "C300              18\n",
      "3 Series          18\n",
      "X6                16\n",
      "M5                15\n",
      "Accord            13\n",
      "RSX               12\n",
      "Name: auto_model, dtype: int64\n",
      "------------fraud_reported-------------------\n",
      "N    753\n",
      "Y    247\n",
      "Name: fraud_reported, dtype: int64\n"
     ]
    }
   ],
   "source": [
    "#get counts for categorical value\n",
    "for i in categorical_data:\n",
    "    print(\"------------\"+i+\"-------------------\")\n",
    "    print(df[i].value_counts())"
   ]
  },
  {
   "cell_type": "code",
   "execution_count": 356,
   "id": "ea54bbdf",
   "metadata": {},
   "outputs": [
    {
     "name": "stdout",
     "output_type": "stream",
     "text": [
      "------------months_as_customer-------------------\n",
      "194    8\n",
      "128    7\n",
      "254    7\n",
      "140    7\n",
      "210    7\n",
      "      ..\n",
      "390    1\n",
      "411    1\n",
      "453    1\n",
      "448    1\n",
      "17     1\n",
      "Name: months_as_customer, Length: 391, dtype: int64\n",
      "------------age-------------------\n",
      "43    49\n",
      "39    48\n",
      "41    45\n",
      "34    44\n",
      "38    42\n",
      "30    42\n",
      "31    42\n",
      "37    41\n",
      "33    39\n",
      "40    38\n",
      "32    38\n",
      "29    35\n",
      "46    33\n",
      "42    32\n",
      "35    32\n",
      "36    32\n",
      "44    32\n",
      "28    30\n",
      "26    26\n",
      "45    26\n",
      "48    25\n",
      "47    24\n",
      "27    24\n",
      "57    16\n",
      "25    14\n",
      "55    14\n",
      "49    14\n",
      "53    13\n",
      "50    13\n",
      "24    10\n",
      "54    10\n",
      "61    10\n",
      "51     9\n",
      "60     9\n",
      "58     8\n",
      "56     8\n",
      "23     7\n",
      "21     6\n",
      "59     5\n",
      "62     4\n",
      "52     4\n",
      "64     2\n",
      "63     2\n",
      "19     1\n",
      "20     1\n",
      "22     1\n",
      "Name: age, dtype: int64\n",
      "------------policy_number-------------------\n",
      "521585    1\n",
      "687755    1\n",
      "674485    1\n",
      "223404    1\n",
      "991480    1\n",
      "         ..\n",
      "563878    1\n",
      "620855    1\n",
      "583169    1\n",
      "337677    1\n",
      "556080    1\n",
      "Name: policy_number, Length: 1000, dtype: int64\n",
      "------------policy_deductable-------------------\n",
      "1000    351\n",
      "500     342\n",
      "2000    307\n",
      "Name: policy_deductable, dtype: int64\n",
      "------------policy_annual_premium-------------------\n",
      "1558.29    2\n",
      "1215.36    2\n",
      "1362.87    2\n",
      "1073.83    2\n",
      "1389.13    2\n",
      "          ..\n",
      "1085.03    1\n",
      "1437.33    1\n",
      "988.29     1\n",
      "1238.89    1\n",
      "766.19     1\n",
      "Name: policy_annual_premium, Length: 991, dtype: int64\n",
      "------------umbrella_limit-------------------\n",
      " 0           798\n",
      " 6000000      57\n",
      " 5000000      46\n",
      " 4000000      39\n",
      " 7000000      29\n",
      " 3000000      12\n",
      " 8000000       8\n",
      " 9000000       5\n",
      " 2000000       3\n",
      " 10000000      2\n",
      "-1000000       1\n",
      "Name: umbrella_limit, dtype: int64\n",
      "------------insured_zip-------------------\n",
      "477695    2\n",
      "469429    2\n",
      "446895    2\n",
      "431202    2\n",
      "456602    2\n",
      "         ..\n",
      "476303    1\n",
      "450339    1\n",
      "476502    1\n",
      "600561    1\n",
      "612260    1\n",
      "Name: insured_zip, Length: 995, dtype: int64\n",
      "------------capital-gains-------------------\n",
      "0        508\n",
      "46300      5\n",
      "51500      4\n",
      "68500      4\n",
      "55600      3\n",
      "        ... \n",
      "36700      1\n",
      "54900      1\n",
      "69200      1\n",
      "48800      1\n",
      "50300      1\n",
      "Name: capital-gains, Length: 338, dtype: int64\n",
      "------------capital-loss-------------------\n",
      " 0        475\n",
      "-31700      5\n",
      "-53700      5\n",
      "-50300      5\n",
      "-45300      4\n",
      "         ... \n",
      "-12100      1\n",
      "-17000      1\n",
      "-72900      1\n",
      "-19700      1\n",
      "-82100      1\n",
      "Name: capital-loss, Length: 354, dtype: int64\n",
      "------------incident_hour_of_the_day-------------------\n",
      "17    54\n",
      "3     53\n",
      "0     52\n",
      "23    51\n",
      "16    49\n",
      "13    46\n",
      "10    46\n",
      "4     46\n",
      "6     44\n",
      "9     43\n",
      "14    43\n",
      "21    42\n",
      "18    41\n",
      "12    40\n",
      "19    40\n",
      "7     40\n",
      "15    39\n",
      "22    38\n",
      "8     36\n",
      "20    34\n",
      "5     33\n",
      "2     31\n",
      "11    30\n",
      "1     29\n",
      "Name: incident_hour_of_the_day, dtype: int64\n",
      "------------number_of_vehicles_involved-------------------\n",
      "1    581\n",
      "3    358\n",
      "4     31\n",
      "2     30\n",
      "Name: number_of_vehicles_involved, dtype: int64\n",
      "------------bodily_injuries-------------------\n",
      "0    340\n",
      "2    332\n",
      "1    328\n",
      "Name: bodily_injuries, dtype: int64\n",
      "------------witnesses-------------------\n",
      "1    258\n",
      "2    250\n",
      "0    249\n",
      "3    243\n",
      "Name: witnesses, dtype: int64\n",
      "------------total_claim_amount-------------------\n",
      "59400    5\n",
      "2640     4\n",
      "70400    4\n",
      "4320     4\n",
      "44200    4\n",
      "        ..\n",
      "65250    1\n",
      "87100    1\n",
      "6240     1\n",
      "66600    1\n",
      "67500    1\n",
      "Name: total_claim_amount, Length: 763, dtype: int64\n",
      "------------injury_claim-------------------\n",
      "0        25\n",
      "640       7\n",
      "480       7\n",
      "660       5\n",
      "580       5\n",
      "         ..\n",
      "14840     1\n",
      "6580      1\n",
      "11820     1\n",
      "16650     1\n",
      "7500      1\n",
      "Name: injury_claim, Length: 638, dtype: int64\n",
      "------------property_claim-------------------\n",
      "0        19\n",
      "860       6\n",
      "480       5\n",
      "660       5\n",
      "10000     5\n",
      "         ..\n",
      "3590      1\n",
      "6480      1\n",
      "4580      1\n",
      "4920      1\n",
      "7500      1\n",
      "Name: property_claim, Length: 626, dtype: int64\n",
      "------------vehicle_claim-------------------\n",
      "5040     7\n",
      "3360     6\n",
      "52080    5\n",
      "4720     5\n",
      "3600     5\n",
      "        ..\n",
      "43360    1\n",
      "25130    1\n",
      "38940    1\n",
      "47430    1\n",
      "52500    1\n",
      "Name: vehicle_claim, Length: 726, dtype: int64\n",
      "------------auto_year-------------------\n",
      "1995    56\n",
      "1999    55\n",
      "2005    54\n",
      "2006    53\n",
      "2011    53\n",
      "2007    52\n",
      "2003    51\n",
      "2009    50\n",
      "2010    50\n",
      "2013    49\n",
      "2002    49\n",
      "2015    47\n",
      "1997    46\n",
      "2012    46\n",
      "2008    45\n",
      "2014    44\n",
      "2001    42\n",
      "2000    42\n",
      "1998    40\n",
      "2004    39\n",
      "1996    37\n",
      "Name: auto_year, dtype: int64\n",
      "------------_c39-------------------\n",
      "Series([], Name: _c39, dtype: int64)\n"
     ]
    }
   ],
   "source": [
    "for i in numerical_columns:\n",
    "    print(\"------------\"+i+\"-------------------\")\n",
    "    print(df[i].value_counts())\n",
    "    \n",
    "      \n"
   ]
  },
  {
   "cell_type": "code",
   "execution_count": 357,
   "id": "fa0ed05a",
   "metadata": {},
   "outputs": [],
   "source": [
    "#drop unnecessary fields\n",
    "df=df.drop(columns=[\"months_as_customer\",\"policy_number\",\"insured_zip\",\"_c39\",\"insured_hobbies\",\"auto_make\",\"umbrella_limit\",\"capital-gains\",\"capital-loss\"],axis=1)"
   ]
  },
  {
   "cell_type": "code",
   "execution_count": 358,
   "id": "9b874224",
   "metadata": {},
   "outputs": [
    {
     "name": "stdout",
     "output_type": "stream",
     "text": [
      "The number of categorical variables are {}  19\n",
      "The categorical variables are {} ['policy_bind_date', 'policy_state', 'policy_csl', 'insured_sex', 'insured_education_level', 'insured_occupation', 'insured_relationship', 'incident_date', 'incident_type', 'collision_type', 'incident_severity', 'authorities_contacted', 'incident_state', 'incident_city', 'incident_location', 'property_damage', 'police_report_available', 'auto_model', 'fraud_reported']\n"
     ]
    }
   ],
   "source": [
    "#separete categorical and numerical data\n",
    "categorical_data=[i for i in df.columns if df[i].dtype==\"O\"]\n",
    "print(\"The number of categorical variables are {} \",len(categorical_data))\n",
    "print(\"The categorical variables are {}\",categorical_data)"
   ]
  },
  {
   "cell_type": "code",
   "execution_count": 359,
   "id": "edaa4f8b",
   "metadata": {},
   "outputs": [
    {
     "name": "stdout",
     "output_type": "stream",
     "text": [
      "The number of numerical variables are {}  12\n",
      "The numerical variables are {} ['age', 'policy_deductable', 'policy_annual_premium', 'incident_hour_of_the_day', 'number_of_vehicles_involved', 'bodily_injuries', 'witnesses', 'total_claim_amount', 'injury_claim', 'property_claim', 'vehicle_claim', 'auto_year']\n"
     ]
    }
   ],
   "source": [
    "numerical_columns=[i for i in df.columns if df[i].dtype!=\"O\"]\n",
    "print(\"The number of numerical variables are {} \",len(numerical_columns))\n",
    "print(\"The numerical variables are {}\",numerical_columns)"
   ]
  },
  {
   "cell_type": "code",
   "execution_count": 327,
   "id": "4073a26f",
   "metadata": {},
   "outputs": [
    {
     "data": {
      "image/png": "[encoded data removed]",
      "text/plain": [
       "<Figure size 432x288 with 1 Axes>"
      ]
     },
     "metadata": {
      "needs_background": "light"
     },
     "output_type": "display_data"
    },
    {
     "data": {
      "image/png": "[encoded data removed]",
      "text/plain": [
       "<Figure size 432x288 with 1 Axes>"
      ]
     },
     "metadata": {
      "needs_background": "light"
     },
     "output_type": "display_data"
    },
    {
     "data": {
      "image/png": "[encoded data removed]",
      "text/plain": [
       "<Figure size 432x288 with 1 Axes>"
      ]
     },
     "metadata": {
      "needs_background": "light"
     },
     "output_type": "display_data"
    },
    {
     "data": {
      "image/png": "[encoded data removed]",
      "text/plain": [
       "<Figure size 432x288 with 1 Axes>"
      ]
     },
     "metadata": {
      "needs_background": "light"
     },
     "output_type": "display_data"
    },
    {
     "data": {
      "image/png": "[encoded data removed]",
      "text/plain": [
       "<Figure size 432x288 with 1 Axes>"
      ]
     },
     "metadata": {
      "needs_background": "light"
     },
     "output_type": "display_data"
    },
    {
     "data": {
      "image/png": "[encoded data removed]",
      "text/plain": [
       "<Figure size 432x288 with 1 Axes>"
      ]
     },
     "metadata": {
      "needs_background": "light"
     },
     "output_type": "display_data"
    },
    {
     "data": {
      "image/png": "[encoded data removed]",
      "text/plain": [
       "<Figure size 432x288 with 1 Axes>"
      ]
     },
     "metadata": {
      "needs_background": "light"
     },
     "output_type": "display_data"
    },
    {
     "data": {
      "image/png": "[encoded data removed]",
      "text/plain": [
       "<Figure size 432x288 with 1 Axes>"
      ]
     },
     "metadata": {
      "needs_background": "light"
     },
     "output_type": "display_data"
    },
    {
     "data": {
      "image/png": "[encoded data removed]",
      "text/plain": [
       "<Figure size 432x288 with 1 Axes>"
      ]
     },
     "metadata": {
      "needs_background": "light"
     },
     "output_type": "display_data"
    },
    {
     "data": {
      "image/png": "[encoded data removed]",
      "text/plain": [
       "<Figure size 432x288 with 1 Axes>"
      ]
     },
     "metadata": {
      "needs_background": "light"
     },
     "output_type": "display_data"
    },
    {
     "data": {
      "image/png": "[encoded data removed]",
      "text/plain": [
       "<Figure size 432x288 with 1 Axes>"
      ]
     },
     "metadata": {
      "needs_background": "light"
     },
     "output_type": "display_data"
    },
    {
     "data": {
      "image/png": "[encoded data removed]",
      "text/plain": [
       "<Figure size 432x288 with 1 Axes>"
      ]
     },
     "metadata": {
      "needs_background": "light"
     },
     "output_type": "display_data"
    },
    {
     "data": {
      "image/png": "[encoded data removed]",
      "text/plain": [
       "<Figure size 432x288 with 1 Axes>"
      ]
     },
     "metadata": {
      "needs_background": "light"
     },
     "output_type": "display_data"
    },
    {
     "data": {
      "image/png": "[encoded data removed]",
      "text/plain": [
       "<Figure size 432x288 with 1 Axes>"
      ]
     },
     "metadata": {
      "needs_background": "light"
     },
     "output_type": "display_data"
    },
    {
     "data": {
      "image/png": "[encoded data removed]",
      "text/plain": [
       "<Figure size 432x288 with 1 Axes>"
      ]
     },
     "metadata": {
      "needs_background": "light"
     },
     "output_type": "display_data"
    },
    {
     "data": {
      "image/png": "[encoded data removed]",
      "text/plain": [
       "<Figure size 432x288 with 1 Axes>"
      ]
     },
     "metadata": {
      "needs_background": "light"
     },
     "output_type": "display_data"
    },
    {
     "data": {
      "image/png": "[encoded data removed]",
      "text/plain": [
       "<Figure size 432x288 with 1 Axes>"
      ]
     },
     "metadata": {
      "needs_background": "light"
     },
     "output_type": "display_data"
    },
    {
     "data": {
      "image/png": "[encoded data removed]",
      "text/plain": [
       "<Figure size 432x288 with 1 Axes>"
      ]
     },
     "metadata": {
      "needs_background": "light"
     },
     "output_type": "display_data"
    },
    {
     "data": {
      "image/png": "[encoded data removed]",
      "text/plain": [
       "<Figure size 432x288 with 1 Axes>"
      ]
     },
     "metadata": {
      "needs_background": "light"
     },
     "output_type": "display_data"
    }
   ],
   "source": [
    "for i in categorical_data:\n",
    "    sns.countplot(x=df[i])\n",
    "  \n",
    "    plt.show()"
   ]
  },
  {
   "cell_type": "code",
   "execution_count": 108,
   "id": "05a08308",
   "metadata": {},
   "outputs": [
    {
     "data": {
      "image/png": "[encoded data removed]",
      "text/plain": [
       "<Figure size 432x288 with 1 Axes>"
      ]
     },
     "metadata": {
      "needs_background": "light"
     },
     "output_type": "display_data"
    },
    {
     "data": {
      "image/png": "[encoded data removed]",
      "text/plain": [
       "<Figure size 432x288 with 1 Axes>"
      ]
     },
     "metadata": {
      "needs_background": "light"
     },
     "output_type": "display_data"
    },
    {
     "data": {
      "image/png": "[encoded data removed]",
      "text/plain": [
       "<Figure size 432x288 with 1 Axes>"
      ]
     },
     "metadata": {
      "needs_background": "light"
     },
     "output_type": "display_data"
    },
    {
     "data": {
      "image/png": "[encoded data removed]",
      "text/plain": [
       "<Figure size 432x288 with 1 Axes>"
      ]
     },
     "metadata": {
      "needs_background": "light"
     },
     "output_type": "display_data"
    },
    {
     "data": {
      "image/png": "[encoded data removed]",
      "text/plain": [
       "<Figure size 432x288 with 1 Axes>"
      ]
     },
     "metadata": {
      "needs_background": "light"
     },
     "output_type": "display_data"
    },
    {
     "data": {
      "image/png": "[encoded data removed]",
      "text/plain": [
       "<Figure size 432x288 with 1 Axes>"
      ]
     },
     "metadata": {
      "needs_background": "light"
     },
     "output_type": "display_data"
    },
    {
     "data": {
      "image/png": "[encoded data removed]",
      "text/plain": [
       "<Figure size 432x288 with 1 Axes>"
      ]
     },
     "metadata": {
      "needs_background": "light"
     },
     "output_type": "display_data"
    },
    {
     "data": {
      "image/png": "[encoded data removed]",
      "text/plain": [
       "<Figure size 432x288 with 1 Axes>"
      ]
     },
     "metadata": {
      "needs_background": "light"
     },
     "output_type": "display_data"
    },
    {
     "data": {
      "image/png": "[encoded data removed]",
      "text/plain": [
       "<Figure size 432x288 with 1 Axes>"
      ]
     },
     "metadata": {
      "needs_background": "light"
     },
     "output_type": "display_data"
    },
    {
     "data": {
      "image/png": "[encoded data removed]",
      "text/plain": [
       "<Figure size 432x288 with 1 Axes>"
      ]
     },
     "metadata": {
      "needs_background": "light"
     },
     "output_type": "display_data"
    },
    {
     "data": {
      "image/png": "[encoded data removed]",
      "text/plain": [
       "<Figure size 432x288 with 1 Axes>"
      ]
     },
     "metadata": {
      "needs_background": "light"
     },
     "output_type": "display_data"
    },
    {
     "data": {
      "image/png": "[encoded data removed]",
      "text/plain": [
       "<Figure size 432x288 with 1 Axes>"
      ]
     },
     "metadata": {
      "needs_background": "light"
     },
     "output_type": "display_data"
    }
   ],
   "source": [
    "for i in numerical_columns:\n",
    "    sns.distplot(x=df[i])\n",
    "  \n",
    "    plt.show()\n",
    "#categorical columns are not normally distributed    "
   ]
  },
  {
   "cell_type": "code",
   "execution_count": 360,
   "id": "0eaf4564",
   "metadata": {},
   "outputs": [],
   "source": [
    "# we need tp convert all categorical values to numerical data\n",
    "df[\"policy_month\"]=df[\"policy_bind_date\"].str.split(\"-\").str[1].astype(int)\n",
    "df[\"policy_year\"]=df[\"policy_bind_date\"].str.split(\"-\").str[2].astype(int)"
   ]
  },
  {
   "cell_type": "code",
   "execution_count": 361,
   "id": "3a31d0e0",
   "metadata": {},
   "outputs": [
    {
     "data": {
      "text/html": [
       "<div>\n",
       "<style scoped>\n",
       "    .dataframe tbody tr th:only-of-type {\n",
       "        vertical-align: middle;\n",
       "    }\n",
       "\n",
       "    .dataframe tbody tr th {\n",
       "        vertical-align: top;\n",
       "    }\n",
       "\n",
       "    .dataframe thead th {\n",
       "        text-align: right;\n",
       "    }\n",
       "</style>\n",
       "<table border=\"1\" class=\"dataframe\">\n",
       "  <thead>\n",
       "    <tr style=\"text-align: right;\">\n",
       "      <th></th>\n",
       "      <th>policy_month</th>\n",
       "      <th>policy_year</th>\n",
       "    </tr>\n",
       "  </thead>\n",
       "  <tbody>\n",
       "    <tr>\n",
       "      <th>0</th>\n",
       "      <td>10</td>\n",
       "      <td>2014</td>\n",
       "    </tr>\n",
       "    <tr>\n",
       "      <th>1</th>\n",
       "      <td>6</td>\n",
       "      <td>2006</td>\n",
       "    </tr>\n",
       "    <tr>\n",
       "      <th>2</th>\n",
       "      <td>9</td>\n",
       "      <td>2000</td>\n",
       "    </tr>\n",
       "    <tr>\n",
       "      <th>3</th>\n",
       "      <td>5</td>\n",
       "      <td>1990</td>\n",
       "    </tr>\n",
       "    <tr>\n",
       "      <th>4</th>\n",
       "      <td>6</td>\n",
       "      <td>2014</td>\n",
       "    </tr>\n",
       "    <tr>\n",
       "      <th>...</th>\n",
       "      <td>...</td>\n",
       "      <td>...</td>\n",
       "    </tr>\n",
       "    <tr>\n",
       "      <th>995</th>\n",
       "      <td>7</td>\n",
       "      <td>1991</td>\n",
       "    </tr>\n",
       "    <tr>\n",
       "      <th>996</th>\n",
       "      <td>1</td>\n",
       "      <td>2014</td>\n",
       "    </tr>\n",
       "    <tr>\n",
       "      <th>997</th>\n",
       "      <td>2</td>\n",
       "      <td>2003</td>\n",
       "    </tr>\n",
       "    <tr>\n",
       "      <th>998</th>\n",
       "      <td>11</td>\n",
       "      <td>2011</td>\n",
       "    </tr>\n",
       "    <tr>\n",
       "      <th>999</th>\n",
       "      <td>11</td>\n",
       "      <td>1996</td>\n",
       "    </tr>\n",
       "  </tbody>\n",
       "</table>\n",
       "<p>1000 rows × 2 columns</p>\n",
       "</div>"
      ],
      "text/plain": [
       "     policy_month  policy_year\n",
       "0              10         2014\n",
       "1               6         2006\n",
       "2               9         2000\n",
       "3               5         1990\n",
       "4               6         2014\n",
       "..            ...          ...\n",
       "995             7         1991\n",
       "996             1         2014\n",
       "997             2         2003\n",
       "998            11         2011\n",
       "999            11         1996\n",
       "\n",
       "[1000 rows x 2 columns]"
      ]
     },
     "execution_count": 361,
     "metadata": {},
     "output_type": "execute_result"
    }
   ],
   "source": [
    "\n",
    "df=df.drop(columns=\"policy_bind_date\")\n",
    "df[[\"policy_month\",\"policy_year\"]]"
   ]
  },
  {
   "cell_type": "code",
   "execution_count": 362,
   "id": "2f59ef3a",
   "metadata": {},
   "outputs": [],
   "source": [
    "df[\"incident_month\"]=df[\"incident_date\"].str.split(\"-\").str[1].astype(int)\n",
    "df[\"incident_year\"]=df[\"incident_date\"].str.split(\"-\").str[2].astype(int)\n",
    "df=df.drop(columns=\"incident_date\")\n"
   ]
  },
  {
   "cell_type": "code",
   "execution_count": 363,
   "id": "81102d51",
   "metadata": {},
   "outputs": [
    {
     "data": {
      "text/plain": [
       "0      2015\n",
       "1      2015\n",
       "2      2015\n",
       "3      2015\n",
       "4      2015\n",
       "       ... \n",
       "995    2015\n",
       "996    2015\n",
       "997    2015\n",
       "998    2015\n",
       "999    2015\n",
       "Name: incident_year, Length: 1000, dtype: int64"
      ]
     },
     "execution_count": 363,
     "metadata": {},
     "output_type": "execute_result"
    }
   ],
   "source": [
    "df[\"incident_year\"]"
   ]
  },
  {
   "cell_type": "code",
   "execution_count": 364,
   "id": "3bb4f520",
   "metadata": {},
   "outputs": [
    {
     "data": {
      "text/html": [
       "<div>\n",
       "<style scoped>\n",
       "    .dataframe tbody tr th:only-of-type {\n",
       "        vertical-align: middle;\n",
       "    }\n",
       "\n",
       "    .dataframe tbody tr th {\n",
       "        vertical-align: top;\n",
       "    }\n",
       "\n",
       "    .dataframe thead th {\n",
       "        text-align: right;\n",
       "    }\n",
       "</style>\n",
       "<table border=\"1\" class=\"dataframe\">\n",
       "  <thead>\n",
       "    <tr style=\"text-align: right;\">\n",
       "      <th></th>\n",
       "      <th>age</th>\n",
       "      <th>policy_deductable</th>\n",
       "      <th>policy_annual_premium</th>\n",
       "      <th>incident_hour_of_the_day</th>\n",
       "      <th>number_of_vehicles_involved</th>\n",
       "      <th>bodily_injuries</th>\n",
       "      <th>witnesses</th>\n",
       "      <th>total_claim_amount</th>\n",
       "      <th>injury_claim</th>\n",
       "      <th>property_claim</th>\n",
       "      <th>vehicle_claim</th>\n",
       "      <th>auto_year</th>\n",
       "      <th>policy_month</th>\n",
       "      <th>policy_year</th>\n",
       "      <th>incident_month</th>\n",
       "      <th>incident_year</th>\n",
       "    </tr>\n",
       "  </thead>\n",
       "  <tbody>\n",
       "    <tr>\n",
       "      <th>age</th>\n",
       "      <td>1.000000</td>\n",
       "      <td>0.029188</td>\n",
       "      <td>0.014404</td>\n",
       "      <td>0.087161</td>\n",
       "      <td>0.022102</td>\n",
       "      <td>-0.015679</td>\n",
       "      <td>0.052359</td>\n",
       "      <td>0.069863</td>\n",
       "      <td>0.075522</td>\n",
       "      <td>0.060898</td>\n",
       "      <td>0.062588</td>\n",
       "      <td>0.001354</td>\n",
       "      <td>0.008357</td>\n",
       "      <td>-0.037444</td>\n",
       "      <td>-0.037058</td>\n",
       "      <td>NaN</td>\n",
       "    </tr>\n",
       "    <tr>\n",
       "      <th>policy_deductable</th>\n",
       "      <td>0.029188</td>\n",
       "      <td>1.000000</td>\n",
       "      <td>-0.003245</td>\n",
       "      <td>0.060935</td>\n",
       "      <td>0.051214</td>\n",
       "      <td>-0.022765</td>\n",
       "      <td>0.066639</td>\n",
       "      <td>0.022839</td>\n",
       "      <td>0.039107</td>\n",
       "      <td>0.064792</td>\n",
       "      <td>0.005269</td>\n",
       "      <td>0.026105</td>\n",
       "      <td>-0.025020</td>\n",
       "      <td>-0.049598</td>\n",
       "      <td>-0.026416</td>\n",
       "      <td>NaN</td>\n",
       "    </tr>\n",
       "    <tr>\n",
       "      <th>policy_annual_premium</th>\n",
       "      <td>0.014404</td>\n",
       "      <td>-0.003245</td>\n",
       "      <td>1.000000</td>\n",
       "      <td>-0.001578</td>\n",
       "      <td>-0.045991</td>\n",
       "      <td>0.026780</td>\n",
       "      <td>0.002332</td>\n",
       "      <td>0.009094</td>\n",
       "      <td>-0.017633</td>\n",
       "      <td>-0.011654</td>\n",
       "      <td>0.020246</td>\n",
       "      <td>-0.049226</td>\n",
       "      <td>-0.002480</td>\n",
       "      <td>0.001249</td>\n",
       "      <td>-0.046097</td>\n",
       "      <td>NaN</td>\n",
       "    </tr>\n",
       "    <tr>\n",
       "      <th>incident_hour_of_the_day</th>\n",
       "      <td>0.087161</td>\n",
       "      <td>0.060935</td>\n",
       "      <td>-0.001578</td>\n",
       "      <td>1.000000</td>\n",
       "      <td>0.120794</td>\n",
       "      <td>-0.034563</td>\n",
       "      <td>0.006527</td>\n",
       "      <td>0.217702</td>\n",
       "      <td>0.165768</td>\n",
       "      <td>0.179536</td>\n",
       "      <td>0.215626</td>\n",
       "      <td>0.021368</td>\n",
       "      <td>0.010163</td>\n",
       "      <td>0.035412</td>\n",
       "      <td>-0.003416</td>\n",
       "      <td>NaN</td>\n",
       "    </tr>\n",
       "    <tr>\n",
       "      <th>number_of_vehicles_involved</th>\n",
       "      <td>0.022102</td>\n",
       "      <td>0.051214</td>\n",
       "      <td>-0.045991</td>\n",
       "      <td>0.120794</td>\n",
       "      <td>1.000000</td>\n",
       "      <td>0.014030</td>\n",
       "      <td>-0.014669</td>\n",
       "      <td>0.274278</td>\n",
       "      <td>0.224650</td>\n",
       "      <td>0.219084</td>\n",
       "      <td>0.269393</td>\n",
       "      <td>0.034554</td>\n",
       "      <td>-0.026949</td>\n",
       "      <td>0.026595</td>\n",
       "      <td>0.052258</td>\n",
       "      <td>NaN</td>\n",
       "    </tr>\n",
       "    <tr>\n",
       "      <th>bodily_injuries</th>\n",
       "      <td>-0.015679</td>\n",
       "      <td>-0.022765</td>\n",
       "      <td>0.026780</td>\n",
       "      <td>-0.034563</td>\n",
       "      <td>0.014030</td>\n",
       "      <td>1.000000</td>\n",
       "      <td>-0.005606</td>\n",
       "      <td>0.047093</td>\n",
       "      <td>0.047319</td>\n",
       "      <td>0.039749</td>\n",
       "      <td>0.043449</td>\n",
       "      <td>-0.020527</td>\n",
       "      <td>-0.025294</td>\n",
       "      <td>0.029987</td>\n",
       "      <td>0.002256</td>\n",
       "      <td>NaN</td>\n",
       "    </tr>\n",
       "    <tr>\n",
       "      <th>witnesses</th>\n",
       "      <td>0.052359</td>\n",
       "      <td>0.066639</td>\n",
       "      <td>0.002332</td>\n",
       "      <td>0.006527</td>\n",
       "      <td>-0.014669</td>\n",
       "      <td>-0.005606</td>\n",
       "      <td>1.000000</td>\n",
       "      <td>-0.011114</td>\n",
       "      <td>-0.024843</td>\n",
       "      <td>0.052640</td>\n",
       "      <td>-0.022564</td>\n",
       "      <td>0.045791</td>\n",
       "      <td>0.018727</td>\n",
       "      <td>0.055907</td>\n",
       "      <td>0.012810</td>\n",
       "      <td>NaN</td>\n",
       "    </tr>\n",
       "    <tr>\n",
       "      <th>total_claim_amount</th>\n",
       "      <td>0.069863</td>\n",
       "      <td>0.022839</td>\n",
       "      <td>0.009094</td>\n",
       "      <td>0.217702</td>\n",
       "      <td>0.274278</td>\n",
       "      <td>0.047093</td>\n",
       "      <td>-0.011114</td>\n",
       "      <td>1.000000</td>\n",
       "      <td>0.805025</td>\n",
       "      <td>0.810686</td>\n",
       "      <td>0.982773</td>\n",
       "      <td>-0.035781</td>\n",
       "      <td>0.013929</td>\n",
       "      <td>-0.000146</td>\n",
       "      <td>-0.035781</td>\n",
       "      <td>NaN</td>\n",
       "    </tr>\n",
       "    <tr>\n",
       "      <th>injury_claim</th>\n",
       "      <td>0.075522</td>\n",
       "      <td>0.039107</td>\n",
       "      <td>-0.017633</td>\n",
       "      <td>0.165768</td>\n",
       "      <td>0.224650</td>\n",
       "      <td>0.047319</td>\n",
       "      <td>-0.024843</td>\n",
       "      <td>0.805025</td>\n",
       "      <td>1.000000</td>\n",
       "      <td>0.563866</td>\n",
       "      <td>0.722878</td>\n",
       "      <td>-0.013718</td>\n",
       "      <td>-0.008774</td>\n",
       "      <td>0.002529</td>\n",
       "      <td>-0.020664</td>\n",
       "      <td>NaN</td>\n",
       "    </tr>\n",
       "    <tr>\n",
       "      <th>property_claim</th>\n",
       "      <td>0.060898</td>\n",
       "      <td>0.064792</td>\n",
       "      <td>-0.011654</td>\n",
       "      <td>0.179536</td>\n",
       "      <td>0.219084</td>\n",
       "      <td>0.039749</td>\n",
       "      <td>0.052640</td>\n",
       "      <td>0.810686</td>\n",
       "      <td>0.563866</td>\n",
       "      <td>1.000000</td>\n",
       "      <td>0.732090</td>\n",
       "      <td>-0.014508</td>\n",
       "      <td>0.023367</td>\n",
       "      <td>-0.000970</td>\n",
       "      <td>-0.077109</td>\n",
       "      <td>NaN</td>\n",
       "    </tr>\n",
       "    <tr>\n",
       "      <th>vehicle_claim</th>\n",
       "      <td>0.062588</td>\n",
       "      <td>0.005269</td>\n",
       "      <td>0.020246</td>\n",
       "      <td>0.215626</td>\n",
       "      <td>0.269393</td>\n",
       "      <td>0.043449</td>\n",
       "      <td>-0.022564</td>\n",
       "      <td>0.982773</td>\n",
       "      <td>0.722878</td>\n",
       "      <td>0.732090</td>\n",
       "      <td>1.000000</td>\n",
       "      <td>-0.042768</td>\n",
       "      <td>0.015770</td>\n",
       "      <td>-0.000610</td>\n",
       "      <td>-0.024981</td>\n",
       "      <td>NaN</td>\n",
       "    </tr>\n",
       "    <tr>\n",
       "      <th>auto_year</th>\n",
       "      <td>0.001354</td>\n",
       "      <td>0.026105</td>\n",
       "      <td>-0.049226</td>\n",
       "      <td>0.021368</td>\n",
       "      <td>0.034554</td>\n",
       "      <td>-0.020527</td>\n",
       "      <td>0.045791</td>\n",
       "      <td>-0.035781</td>\n",
       "      <td>-0.013718</td>\n",
       "      <td>-0.014508</td>\n",
       "      <td>-0.042768</td>\n",
       "      <td>1.000000</td>\n",
       "      <td>-0.030265</td>\n",
       "      <td>0.015164</td>\n",
       "      <td>-0.018456</td>\n",
       "      <td>NaN</td>\n",
       "    </tr>\n",
       "    <tr>\n",
       "      <th>policy_month</th>\n",
       "      <td>0.008357</td>\n",
       "      <td>-0.025020</td>\n",
       "      <td>-0.002480</td>\n",
       "      <td>0.010163</td>\n",
       "      <td>-0.026949</td>\n",
       "      <td>-0.025294</td>\n",
       "      <td>0.018727</td>\n",
       "      <td>0.013929</td>\n",
       "      <td>-0.008774</td>\n",
       "      <td>0.023367</td>\n",
       "      <td>0.015770</td>\n",
       "      <td>-0.030265</td>\n",
       "      <td>1.000000</td>\n",
       "      <td>-0.029324</td>\n",
       "      <td>0.075224</td>\n",
       "      <td>NaN</td>\n",
       "    </tr>\n",
       "    <tr>\n",
       "      <th>policy_year</th>\n",
       "      <td>-0.037444</td>\n",
       "      <td>-0.049598</td>\n",
       "      <td>0.001249</td>\n",
       "      <td>0.035412</td>\n",
       "      <td>0.026595</td>\n",
       "      <td>0.029987</td>\n",
       "      <td>0.055907</td>\n",
       "      <td>-0.000146</td>\n",
       "      <td>0.002529</td>\n",
       "      <td>-0.000970</td>\n",
       "      <td>-0.000610</td>\n",
       "      <td>0.015164</td>\n",
       "      <td>-0.029324</td>\n",
       "      <td>1.000000</td>\n",
       "      <td>0.045554</td>\n",
       "      <td>NaN</td>\n",
       "    </tr>\n",
       "    <tr>\n",
       "      <th>incident_month</th>\n",
       "      <td>-0.037058</td>\n",
       "      <td>-0.026416</td>\n",
       "      <td>-0.046097</td>\n",
       "      <td>-0.003416</td>\n",
       "      <td>0.052258</td>\n",
       "      <td>0.002256</td>\n",
       "      <td>0.012810</td>\n",
       "      <td>-0.035781</td>\n",
       "      <td>-0.020664</td>\n",
       "      <td>-0.077109</td>\n",
       "      <td>-0.024981</td>\n",
       "      <td>-0.018456</td>\n",
       "      <td>0.075224</td>\n",
       "      <td>0.045554</td>\n",
       "      <td>1.000000</td>\n",
       "      <td>NaN</td>\n",
       "    </tr>\n",
       "    <tr>\n",
       "      <th>incident_year</th>\n",
       "      <td>NaN</td>\n",
       "      <td>NaN</td>\n",
       "      <td>NaN</td>\n",
       "      <td>NaN</td>\n",
       "      <td>NaN</td>\n",
       "      <td>NaN</td>\n",
       "      <td>NaN</td>\n",
       "      <td>NaN</td>\n",
       "      <td>NaN</td>\n",
       "      <td>NaN</td>\n",
       "      <td>NaN</td>\n",
       "      <td>NaN</td>\n",
       "      <td>NaN</td>\n",
       "      <td>NaN</td>\n",
       "      <td>NaN</td>\n",
       "      <td>NaN</td>\n",
       "    </tr>\n",
       "  </tbody>\n",
       "</table>\n",
       "</div>"
      ],
      "text/plain": [
       "                                  age  policy_deductable  \\\n",
       "age                          1.000000           0.029188   \n",
       "policy_deductable            0.029188           1.000000   \n",
       "policy_annual_premium        0.014404          -0.003245   \n",
       "incident_hour_of_the_day     0.087161           0.060935   \n",
       "number_of_vehicles_involved  0.022102           0.051214   \n",
       "bodily_injuries             -0.015679          -0.022765   \n",
       "witnesses                    0.052359           0.066639   \n",
       "total_claim_amount           0.069863           0.022839   \n",
       "injury_claim                 0.075522           0.039107   \n",
       "property_claim               0.060898           0.064792   \n",
       "vehicle_claim                0.062588           0.005269   \n",
       "auto_year                    0.001354           0.026105   \n",
       "policy_month                 0.008357          -0.025020   \n",
       "policy_year                 -0.037444          -0.049598   \n",
       "incident_month              -0.037058          -0.026416   \n",
       "incident_year                     NaN                NaN   \n",
       "\n",
       "                             policy_annual_premium  incident_hour_of_the_day  \\\n",
       "age                                       0.014404                  0.087161   \n",
       "policy_deductable                        -0.003245                  0.060935   \n",
       "policy_annual_premium                     1.000000                 -0.001578   \n",
       "incident_hour_of_the_day                 -0.001578                  1.000000   \n",
       "number_of_vehicles_involved              -0.045991                  0.120794   \n",
       "bodily_injuries                           0.026780                 -0.034563   \n",
       "witnesses                                 0.002332                  0.006527   \n",
       "total_claim_amount                        0.009094                  0.217702   \n",
       "injury_claim                             -0.017633                  0.165768   \n",
       "property_claim                           -0.011654                  0.179536   \n",
       "vehicle_claim                             0.020246                  0.215626   \n",
       "auto_year                                -0.049226                  0.021368   \n",
       "policy_month                             -0.002480                  0.010163   \n",
       "policy_year                               0.001249                  0.035412   \n",
       "incident_month                           -0.046097                 -0.003416   \n",
       "incident_year                                  NaN                       NaN   \n",
       "\n",
       "                             number_of_vehicles_involved  bodily_injuries  \\\n",
       "age                                             0.022102        -0.015679   \n",
       "policy_deductable                               0.051214        -0.022765   \n",
       "policy_annual_premium                          -0.045991         0.026780   \n",
       "incident_hour_of_the_day                        0.120794        -0.034563   \n",
       "number_of_vehicles_involved                     1.000000         0.014030   \n",
       "bodily_injuries                                 0.014030         1.000000   \n",
       "witnesses                                      -0.014669        -0.005606   \n",
       "total_claim_amount                              0.274278         0.047093   \n",
       "injury_claim                                    0.224650         0.047319   \n",
       "property_claim                                  0.219084         0.039749   \n",
       "vehicle_claim                                   0.269393         0.043449   \n",
       "auto_year                                       0.034554        -0.020527   \n",
       "policy_month                                   -0.026949        -0.025294   \n",
       "policy_year                                     0.026595         0.029987   \n",
       "incident_month                                  0.052258         0.002256   \n",
       "incident_year                                        NaN              NaN   \n",
       "\n",
       "                             witnesses  total_claim_amount  injury_claim  \\\n",
       "age                           0.052359            0.069863      0.075522   \n",
       "policy_deductable             0.066639            0.022839      0.039107   \n",
       "policy_annual_premium         0.002332            0.009094     -0.017633   \n",
       "incident_hour_of_the_day      0.006527            0.217702      0.165768   \n",
       "number_of_vehicles_involved  -0.014669            0.274278      0.224650   \n",
       "bodily_injuries              -0.005606            0.047093      0.047319   \n",
       "witnesses                     1.000000           -0.011114     -0.024843   \n",
       "total_claim_amount           -0.011114            1.000000      0.805025   \n",
       "injury_claim                 -0.024843            0.805025      1.000000   \n",
       "property_claim                0.052640            0.810686      0.563866   \n",
       "vehicle_claim                -0.022564            0.982773      0.722878   \n",
       "auto_year                     0.045791           -0.035781     -0.013718   \n",
       "policy_month                  0.018727            0.013929     -0.008774   \n",
       "policy_year                   0.055907           -0.000146      0.002529   \n",
       "incident_month                0.012810           -0.035781     -0.020664   \n",
       "incident_year                      NaN                 NaN           NaN   \n",
       "\n",
       "                             property_claim  vehicle_claim  auto_year  \\\n",
       "age                                0.060898       0.062588   0.001354   \n",
       "policy_deductable                  0.064792       0.005269   0.026105   \n",
       "policy_annual_premium             -0.011654       0.020246  -0.049226   \n",
       "incident_hour_of_the_day           0.179536       0.215626   0.021368   \n",
       "number_of_vehicles_involved        0.219084       0.269393   0.034554   \n",
       "bodily_injuries                    0.039749       0.043449  -0.020527   \n",
       "witnesses                          0.052640      -0.022564   0.045791   \n",
       "total_claim_amount                 0.810686       0.982773  -0.035781   \n",
       "injury_claim                       0.563866       0.722878  -0.013718   \n",
       "property_claim                     1.000000       0.732090  -0.014508   \n",
       "vehicle_claim                      0.732090       1.000000  -0.042768   \n",
       "auto_year                         -0.014508      -0.042768   1.000000   \n",
       "policy_month                       0.023367       0.015770  -0.030265   \n",
       "policy_year                       -0.000970      -0.000610   0.015164   \n",
       "incident_month                    -0.077109      -0.024981  -0.018456   \n",
       "incident_year                           NaN            NaN        NaN   \n",
       "\n",
       "                             policy_month  policy_year  incident_month  \\\n",
       "age                              0.008357    -0.037444       -0.037058   \n",
       "policy_deductable               -0.025020    -0.049598       -0.026416   \n",
       "policy_annual_premium           -0.002480     0.001249       -0.046097   \n",
       "incident_hour_of_the_day         0.010163     0.035412       -0.003416   \n",
       "number_of_vehicles_involved     -0.026949     0.026595        0.052258   \n",
       "bodily_injuries                 -0.025294     0.029987        0.002256   \n",
       "witnesses                        0.018727     0.055907        0.012810   \n",
       "total_claim_amount               0.013929    -0.000146       -0.035781   \n",
       "injury_claim                    -0.008774     0.002529       -0.020664   \n",
       "property_claim                   0.023367    -0.000970       -0.077109   \n",
       "vehicle_claim                    0.015770    -0.000610       -0.024981   \n",
       "auto_year                       -0.030265     0.015164       -0.018456   \n",
       "policy_month                     1.000000    -0.029324        0.075224   \n",
       "policy_year                     -0.029324     1.000000        0.045554   \n",
       "incident_month                   0.075224     0.045554        1.000000   \n",
       "incident_year                         NaN          NaN             NaN   \n",
       "\n",
       "                             incident_year  \n",
       "age                                    NaN  \n",
       "policy_deductable                      NaN  \n",
       "policy_annual_premium                  NaN  \n",
       "incident_hour_of_the_day               NaN  \n",
       "number_of_vehicles_involved            NaN  \n",
       "bodily_injuries                        NaN  \n",
       "witnesses                              NaN  \n",
       "total_claim_amount                     NaN  \n",
       "injury_claim                           NaN  \n",
       "property_claim                         NaN  \n",
       "vehicle_claim                          NaN  \n",
       "auto_year                              NaN  \n",
       "policy_month                           NaN  \n",
       "policy_year                            NaN  \n",
       "incident_month                         NaN  \n",
       "incident_year                          NaN  "
      ]
     },
     "execution_count": 364,
     "metadata": {},
     "output_type": "execute_result"
    }
   ],
   "source": [
    "df.corr()\n",
    "#from this table it clearly says no possible for multicolinearity "
   ]
  },
  {
   "cell_type": "code",
   "execution_count": 365,
   "id": "a3ab2b98",
   "metadata": {},
   "outputs": [
    {
     "data": {
      "text/plain": [
       "age                            0.478988\n",
       "policy_deductable              0.477887\n",
       "policy_annual_premium          0.004402\n",
       "incident_hour_of_the_day      -0.035584\n",
       "number_of_vehicles_involved    0.502664\n",
       "bodily_injuries                0.014777\n",
       "witnesses                      0.019636\n",
       "total_claim_amount            -0.594582\n",
       "injury_claim                   0.264811\n",
       "property_claim                 0.378169\n",
       "vehicle_claim                 -0.621098\n",
       "auto_year                     -0.048289\n",
       "policy_month                  -0.016994\n",
       "policy_year                    0.052511\n",
       "incident_month                 0.267378\n",
       "incident_year                  0.000000\n",
       "dtype: float64"
      ]
     },
     "execution_count": 365,
     "metadata": {},
     "output_type": "execute_result"
    }
   ],
   "source": [
    "df.skew()\n",
    "#All values are less then 1 so no skewness is present"
   ]
  },
  {
   "cell_type": "code",
   "execution_count": null,
   "id": "90a3ca44",
   "metadata": {},
   "outputs": [],
   "source": []
  },
  {
   "cell_type": "code",
   "execution_count": 366,
   "id": "3f35906e",
   "metadata": {},
   "outputs": [],
   "source": [
    "from sklearn.preprocessing import LabelEncoder\n",
    "lbl=LabelEncoder()\n",
    "df[\"insured_education_level\"]=lbl.fit_transform(df[\"insured_education_level\"])\n",
    "df[\"fraud_reported\"]=lbl.fit_transform(df[\"fraud_reported\"])\n",
    "\n",
    "\n"
   ]
  },
  {
   "cell_type": "code",
   "execution_count": 367,
   "id": "45ece9ba",
   "metadata": {},
   "outputs": [
    {
     "data": {
      "text/plain": [
       "0    753\n",
       "1    247\n",
       "Name: fraud_reported, dtype: int64"
      ]
     },
     "execution_count": 367,
     "metadata": {},
     "output_type": "execute_result"
    }
   ],
   "source": [
    "df[\"fraud_reported\"].value_counts()"
   ]
  },
  {
   "cell_type": "code",
   "execution_count": null,
   "id": "3cb0b4cf",
   "metadata": {},
   "outputs": [],
   "source": []
  },
  {
   "cell_type": "code",
   "execution_count": 368,
   "id": "f3792e84",
   "metadata": {},
   "outputs": [
    {
     "name": "stdout",
     "output_type": "stream",
     "text": [
      "The number of categorical variables are {}  15\n",
      "The categorical variables are {} ['policy_state', 'policy_csl', 'insured_sex', 'insured_occupation', 'insured_relationship', 'incident_type', 'collision_type', 'incident_severity', 'authorities_contacted', 'incident_state', 'incident_city', 'incident_location', 'property_damage', 'police_report_available', 'auto_model']\n"
     ]
    }
   ],
   "source": [
    "categorical_data=[i for i in df.columns if df[i].dtype==\"O\"]\n",
    "print(\"The number of categorical variables are {} \",len(categorical_data))\n",
    "print(\"The categorical variables are {}\",categorical_data)"
   ]
  },
  {
   "cell_type": "code",
   "execution_count": 369,
   "id": "552b08d1",
   "metadata": {},
   "outputs": [],
   "source": [
    "dummies=pd.get_dummies(df[['policy_state', 'policy_csl', 'insured_sex', 'insured_occupation', 'insured_relationship', 'incident_type', 'collision_type', 'incident_severity', 'authorities_contacted', 'incident_state', 'incident_city', 'incident_location', 'property_damage', 'police_report_available', 'auto_model']],drop_first=True)"
   ]
  },
  {
   "cell_type": "code",
   "execution_count": 370,
   "id": "2ef91feb",
   "metadata": {},
   "outputs": [],
   "source": [
    "df=df.drop(columns=['policy_state', 'policy_csl', 'insured_sex', 'insured_occupation', 'insured_relationship', 'incident_type', 'collision_type', 'incident_severity', 'authorities_contacted', 'incident_state', 'incident_city', 'incident_location', 'property_damage', 'police_report_available', 'auto_model'],axis=1)\n"
   ]
  },
  {
   "cell_type": "code",
   "execution_count": 371,
   "id": "ef326854",
   "metadata": {},
   "outputs": [],
   "source": [
    "df=pd.concat([df,dummies],axis=1)"
   ]
  },
  {
   "cell_type": "code",
   "execution_count": null,
   "id": "d7fc4922",
   "metadata": {},
   "outputs": [],
   "source": []
  },
  {
   "cell_type": "code",
   "execution_count": 372,
   "id": "caad036b",
   "metadata": {},
   "outputs": [],
   "source": [
    "x=df.drop(columns=\"fraud_reported\",axis=1)\n",
    "y=df[\"fraud_reported\"]"
   ]
  },
  {
   "cell_type": "code",
   "execution_count": 373,
   "id": "8055f2ed",
   "metadata": {},
   "outputs": [],
   "source": [
    "from sklearn.preprocessing import StandardScaler\n",
    "sc=StandardScaler()\n",
    "x=sc.fit_transform(x)"
   ]
  },
  {
   "cell_type": "code",
   "execution_count": null,
   "id": "7c3651c9",
   "metadata": {},
   "outputs": [],
   "source": []
  },
  {
   "cell_type": "code",
   "execution_count": 375,
   "id": "47e0269c",
   "metadata": {},
   "outputs": [],
   "source": [
    "from sklearn.linear_model import LogisticRegression\n",
    "from sklearn.model_selection import train_test_split,GridSearchCV\n",
    "from sklearn.metrics import accuracy_score,confusion_matrix,roc_curve,roc_auc_score\n",
    "\n",
    "x_train,x_test,y_train,y_test=train_test_split(x,y,random_state=45,test_size=0.20,)\n",
    "lr=LogisticRegression()\n",
    "lr.fit(x_train,y_train)\n",
    "y_pred=lr.predict(x_test)"
   ]
  },
  {
   "cell_type": "code",
   "execution_count": 376,
   "id": "742af89b",
   "metadata": {},
   "outputs": [
    {
     "data": {
      "text/plain": [
       "0.755"
      ]
     },
     "execution_count": 376,
     "metadata": {},
     "output_type": "execute_result"
    }
   ],
   "source": [
    "score=accuracy_score(y_test,y_pred)\n",
    "score"
   ]
  },
  {
   "cell_type": "code",
   "execution_count": 377,
   "id": "0a754ba5",
   "metadata": {},
   "outputs": [
    {
     "data": {
      "image/png": "[encoded data removed]",
      "text/plain": [
       "<Figure size 432x288 with 2 Axes>"
      ]
     },
     "metadata": {
      "needs_background": "light"
     },
     "output_type": "display_data"
    }
   ],
   "source": [
    "from sklearn import metrics\n",
    "confusion_matrix=metrics.confusion_matrix(y_test,y_pred)\n",
    "display=metrics.ConfusionMatrixDisplay(confusion_matrix=confusion_matrix)\n",
    "display.plot()\n",
    "plt.show()"
   ]
  },
  {
   "cell_type": "code",
   "execution_count": 378,
   "id": "d7746cee",
   "metadata": {},
   "outputs": [
    {
     "name": "stdout",
     "output_type": "stream",
     "text": [
      "              precision    recall  f1-score   support\n",
      "\n",
      "           0       0.76      1.00      0.86       151\n",
      "           1       0.00      0.00      0.00        49\n",
      "\n",
      "    accuracy                           0.76       200\n",
      "   macro avg       0.38      0.50      0.43       200\n",
      "weighted avg       0.57      0.76      0.65       200\n",
      "\n"
     ]
    }
   ],
   "source": [
    "print(metrics.classification_report(y_test,y_pred))"
   ]
  },
  {
   "cell_type": "code",
   "execution_count": 379,
   "id": "c49a33f6",
   "metadata": {},
   "outputs": [],
   "source": [
    "from sklearn.tree import DecisionTreeClassifier\n",
    "clf=DecisionTreeClassifier()\n",
    "grid_parameter={\n",
    "    \"criterion\":[\"gini\",\"entropy\"],\n",
    "    \"max_depth\":range(10,15),\n",
    "    \"min_samples_leaf\":range(2,10),\n",
    "    \"min_samples_split\":range(3,10),\n",
    "    \"max_leaf_nodes\":range(2,4)\n",
    "}"
   ]
  },
  {
   "cell_type": "code",
   "execution_count": 380,
   "id": "13771447",
   "metadata": {},
   "outputs": [
    {
     "data": {
      "text/html": [
       "<style>#sk-container-id-2 {color: black;background-color: white;}#sk-container-id-2 pre{padding: 0;}#sk-container-id-2 div.sk-toggleable {background-color: white;}#sk-container-id-2 label.sk-toggleable__label {cursor: pointer;display: block;width: 100%;margin-bottom: 0;padding: 0.3em;box-sizing: border-box;text-align: center;}#sk-container-id-2 label.sk-toggleable__label-arrow:before {content: \"▸\";float: left;margin-right: 0.25em;color: #696969;}#sk-container-id-2 label.sk-toggleable__label-arrow:hover:before {color: black;}#sk-container-id-2 div.sk-estimator:hover label.sk-toggleable__label-arrow:before {color: black;}#sk-container-id-2 div.sk-toggleable__content {max-height: 0;max-width: 0;overflow: hidden;text-align: left;background-color: #f0f8ff;}#sk-container-id-2 div.sk-toggleable__content pre {margin: 0.2em;color: black;border-radius: 0.25em;background-color: #f0f8ff;}#sk-container-id-2 input.sk-toggleable__control:checked~div.sk-toggleable__content {max-height: 200px;max-width: 100%;overflow: auto;}#sk-container-id-2 input.sk-toggleable__control:checked~label.sk-toggleable__label-arrow:before {content: \"▾\";}#sk-container-id-2 div.sk-estimator input.sk-toggleable__control:checked~label.sk-toggleable__label {background-color: #d4ebff;}#sk-container-id-2 div.sk-label input.sk-toggleable__control:checked~label.sk-toggleable__label {background-color: #d4ebff;}#sk-container-id-2 input.sk-hidden--visually {border: 0;clip: rect(1px 1px 1px 1px);clip: rect(1px, 1px, 1px, 1px);height: 1px;margin: -1px;overflow: hidden;padding: 0;position: absolute;width: 1px;}#sk-container-id-2 div.sk-estimator {font-family: monospace;background-color: #f0f8ff;border: 1px dotted black;border-radius: 0.25em;box-sizing: border-box;margin-bottom: 0.5em;}#sk-container-id-2 div.sk-estimator:hover {background-color: #d4ebff;}#sk-container-id-2 div.sk-parallel-item::after {content: \"\";width: 100%;border-bottom: 1px solid gray;flex-grow: 1;}#sk-container-id-2 div.sk-label:hover label.sk-toggleable__label {background-color: #d4ebff;}#sk-container-id-2 div.sk-serial::before {content: \"\";position: absolute;border-left: 1px solid gray;box-sizing: border-box;top: 0;bottom: 0;left: 50%;z-index: 0;}#sk-container-id-2 div.sk-serial {display: flex;flex-direction: column;align-items: center;background-color: white;padding-right: 0.2em;padding-left: 0.2em;position: relative;}#sk-container-id-2 div.sk-item {position: relative;z-index: 1;}#sk-container-id-2 div.sk-parallel {display: flex;align-items: stretch;justify-content: center;background-color: white;position: relative;}#sk-container-id-2 div.sk-item::before, #sk-container-id-2 div.sk-parallel-item::before {content: \"\";position: absolute;border-left: 1px solid gray;box-sizing: border-box;top: 0;bottom: 0;left: 50%;z-index: -1;}#sk-container-id-2 div.sk-parallel-item {display: flex;flex-direction: column;z-index: 1;position: relative;background-color: white;}#sk-container-id-2 div.sk-parallel-item:first-child::after {align-self: flex-end;width: 50%;}#sk-container-id-2 div.sk-parallel-item:last-child::after {align-self: flex-start;width: 50%;}#sk-container-id-2 div.sk-parallel-item:only-child::after {width: 0;}#sk-container-id-2 div.sk-dashed-wrapped {border: 1px dashed gray;margin: 0 0.4em 0.5em 0.4em;box-sizing: border-box;padding-bottom: 0.4em;background-color: white;}#sk-container-id-2 div.sk-label label {font-family: monospace;font-weight: bold;display: inline-block;line-height: 1.2em;}#sk-container-id-2 div.sk-label-container {text-align: center;}#sk-container-id-2 div.sk-container {/* jupyter's `normalize.less` sets `[hidden] { display: none; }` but bootstrap.min.css set `[hidden] { display: none !important; }` so we also need the `!important` here to be able to override the default hidden behavior on the sphinx rendered scikit-learn.org. See: https://github.com/scikit-learn/scikit-learn/issues/21755 */display: inline-block !important;position: relative;}#sk-container-id-2 div.sk-text-repr-fallback {display: none;}</style><div id=\"sk-container-id-2\" class=\"sk-top-container\"><div class=\"sk-text-repr-fallback\"><pre>GridSearchCV(cv=10, estimator=DecisionTreeClassifier(), n_jobs=-1,\n",
       "             param_grid={&#x27;criterion&#x27;: [&#x27;gini&#x27;, &#x27;entropy&#x27;],\n",
       "                         &#x27;max_depth&#x27;: range(10, 15),\n",
       "                         &#x27;max_leaf_nodes&#x27;: range(2, 4),\n",
       "                         &#x27;min_samples_leaf&#x27;: range(2, 10),\n",
       "                         &#x27;min_samples_split&#x27;: range(3, 10)})</pre><b>In a Jupyter environment, please rerun this cell to show the HTML representation or trust the notebook. <br />On GitHub, the HTML representation is unable to render, please try loading this page with nbviewer.org.</b></div><div class=\"sk-container\" hidden><div class=\"sk-item sk-dashed-wrapped\"><div class=\"sk-label-container\"><div class=\"sk-label sk-toggleable\"><input class=\"sk-toggleable__control sk-hidden--visually\" id=\"sk-estimator-id-2\" type=\"checkbox\" ><label for=\"sk-estimator-id-2\" class=\"sk-toggleable__label sk-toggleable__label-arrow\">GridSearchCV</label><div class=\"sk-toggleable__content\"><pre>GridSearchCV(cv=10, estimator=DecisionTreeClassifier(), n_jobs=-1,\n",
       "             param_grid={&#x27;criterion&#x27;: [&#x27;gini&#x27;, &#x27;entropy&#x27;],\n",
       "                         &#x27;max_depth&#x27;: range(10, 15),\n",
       "                         &#x27;max_leaf_nodes&#x27;: range(2, 4),\n",
       "                         &#x27;min_samples_leaf&#x27;: range(2, 10),\n",
       "                         &#x27;min_samples_split&#x27;: range(3, 10)})</pre></div></div></div><div class=\"sk-parallel\"><div class=\"sk-parallel-item\"><div class=\"sk-item\"><div class=\"sk-label-container\"><div class=\"sk-label sk-toggleable\"><input class=\"sk-toggleable__control sk-hidden--visually\" id=\"sk-estimator-id-3\" type=\"checkbox\" ><label for=\"sk-estimator-id-3\" class=\"sk-toggleable__label sk-toggleable__label-arrow\">estimator: DecisionTreeClassifier</label><div class=\"sk-toggleable__content\"><pre>DecisionTreeClassifier()</pre></div></div></div><div class=\"sk-serial\"><div class=\"sk-item\"><div class=\"sk-estimator sk-toggleable\"><input class=\"sk-toggleable__control sk-hidden--visually\" id=\"sk-estimator-id-4\" type=\"checkbox\" ><label for=\"sk-estimator-id-4\" class=\"sk-toggleable__label sk-toggleable__label-arrow\">DecisionTreeClassifier</label><div class=\"sk-toggleable__content\"><pre>DecisionTreeClassifier()</pre></div></div></div></div></div></div></div></div></div></div>"
      ],
      "text/plain": [
       "GridSearchCV(cv=10, estimator=DecisionTreeClassifier(), n_jobs=-1,\n",
       "             param_grid={'criterion': ['gini', 'entropy'],\n",
       "                         'max_depth': range(10, 15),\n",
       "                         'max_leaf_nodes': range(2, 4),\n",
       "                         'min_samples_leaf': range(2, 10),\n",
       "                         'min_samples_split': range(3, 10)})"
      ]
     },
     "execution_count": 380,
     "metadata": {},
     "output_type": "execute_result"
    }
   ],
   "source": [
    "grid_search=GridSearchCV(estimator=clf,param_grid=grid_parameter,cv=10,n_jobs=-1)\n",
    "grid_search.fit(x_train,y_train)"
   ]
  },
  {
   "cell_type": "code",
   "execution_count": 381,
   "id": "dbd36bec",
   "metadata": {},
   "outputs": [
    {
     "name": "stdout",
     "output_type": "stream",
     "text": [
      "{'criterion': 'gini', 'max_depth': 10, 'max_leaf_nodes': 2, 'min_samples_leaf': 2, 'min_samples_split': 3}\n"
     ]
    }
   ],
   "source": [
    "best_paramter=grid_search.best_params_\n",
    "print(best_paramter)"
   ]
  },
  {
   "cell_type": "code",
   "execution_count": 382,
   "id": "a20dac8d",
   "metadata": {},
   "outputs": [
    {
     "data": {
      "text/plain": [
       "0.755"
      ]
     },
     "execution_count": 382,
     "metadata": {},
     "output_type": "execute_result"
    }
   ],
   "source": [
    "clf=DecisionTreeClassifier(criterion= 'gini', max_depth= 10, max_leaf_nodes= 2, min_samples_leaf= 2, min_samples_split= 3)\n",
    "clf.fit(x_train,y_train)\n",
    "y_pred=clf.predict(x_test)\n",
    "score=accuracy_score(y_test,y_pred)\n",
    "score"
   ]
  },
  {
   "cell_type": "code",
   "execution_count": 383,
   "id": "c7542a86",
   "metadata": {},
   "outputs": [
    {
     "data": {
      "image/png": "[encoded data removed]",
      "text/plain": [
       "<Figure size 432x288 with 2 Axes>"
      ]
     },
     "metadata": {
      "needs_background": "light"
     },
     "output_type": "display_data"
    }
   ],
   "source": [
    "confusion_matrix=metrics.confusion_matrix(y_test,y_pred)\n",
    "display=metrics.ConfusionMatrixDisplay(confusion_matrix=confusion_matrix)\n",
    "display.plot()\n",
    "plt.show()"
   ]
  },
  {
   "cell_type": "code",
   "execution_count": 384,
   "id": "524466d5",
   "metadata": {},
   "outputs": [
    {
     "name": "stdout",
     "output_type": "stream",
     "text": [
      "              precision    recall  f1-score   support\n",
      "\n",
      "           0       0.76      1.00      0.86       151\n",
      "           1       0.00      0.00      0.00        49\n",
      "\n",
      "    accuracy                           0.76       200\n",
      "   macro avg       0.38      0.50      0.43       200\n",
      "weighted avg       0.57      0.76      0.65       200\n",
      "\n"
     ]
    }
   ],
   "source": [
    "print(metrics.classification_report(y_test,y_pred))"
   ]
  },
  {
   "cell_type": "code",
   "execution_count": 385,
   "id": "e94ba144",
   "metadata": {},
   "outputs": [
    {
     "name": "stdout",
     "output_type": "stream",
     "text": [
      "{'C': 0.001, 'gamma': 0.001}\n",
      "0.7525000000000001\n"
     ]
    }
   ],
   "source": [
    "from sklearn.model_selection import GridSearchCV\n",
    "from sklearn.svm import SVC\n",
    "svc_model=SVC()\n",
    "params = {'C': [0.001, 0.01, 0.1, 1, 10],'gamma':[0.001, 0.01, 0.1, 1]}\n",
    "svcClf = GridSearchCV(svc_model, param_grid = params, scoring = 'accuracy', cv = 10)\n",
    "\n",
    "svcClf.fit(x_train, y_train)\n",
    "\n",
    "print(svcClf.best_params_)\n",
    "print(svcClf.best_score_)"
   ]
  },
  {
   "cell_type": "code",
   "execution_count": 387,
   "id": "db4b1ca8",
   "metadata": {},
   "outputs": [
    {
     "data": {
      "text/html": [
       "<style>#sk-container-id-4 {color: black;background-color: white;}#sk-container-id-4 pre{padding: 0;}#sk-container-id-4 div.sk-toggleable {background-color: white;}#sk-container-id-4 label.sk-toggleable__label {cursor: pointer;display: block;width: 100%;margin-bottom: 0;padding: 0.3em;box-sizing: border-box;text-align: center;}#sk-container-id-4 label.sk-toggleable__label-arrow:before {content: \"▸\";float: left;margin-right: 0.25em;color: #696969;}#sk-container-id-4 label.sk-toggleable__label-arrow:hover:before {color: black;}#sk-container-id-4 div.sk-estimator:hover label.sk-toggleable__label-arrow:before {color: black;}#sk-container-id-4 div.sk-toggleable__content {max-height: 0;max-width: 0;overflow: hidden;text-align: left;background-color: #f0f8ff;}#sk-container-id-4 div.sk-toggleable__content pre {margin: 0.2em;color: black;border-radius: 0.25em;background-color: #f0f8ff;}#sk-container-id-4 input.sk-toggleable__control:checked~div.sk-toggleable__content {max-height: 200px;max-width: 100%;overflow: auto;}#sk-container-id-4 input.sk-toggleable__control:checked~label.sk-toggleable__label-arrow:before {content: \"▾\";}#sk-container-id-4 div.sk-estimator input.sk-toggleable__control:checked~label.sk-toggleable__label {background-color: #d4ebff;}#sk-container-id-4 div.sk-label input.sk-toggleable__control:checked~label.sk-toggleable__label {background-color: #d4ebff;}#sk-container-id-4 input.sk-hidden--visually {border: 0;clip: rect(1px 1px 1px 1px);clip: rect(1px, 1px, 1px, 1px);height: 1px;margin: -1px;overflow: hidden;padding: 0;position: absolute;width: 1px;}#sk-container-id-4 div.sk-estimator {font-family: monospace;background-color: #f0f8ff;border: 1px dotted black;border-radius: 0.25em;box-sizing: border-box;margin-bottom: 0.5em;}#sk-container-id-4 div.sk-estimator:hover {background-color: #d4ebff;}#sk-container-id-4 div.sk-parallel-item::after {content: \"\";width: 100%;border-bottom: 1px solid gray;flex-grow: 1;}#sk-container-id-4 div.sk-label:hover label.sk-toggleable__label {background-color: #d4ebff;}#sk-container-id-4 div.sk-serial::before {content: \"\";position: absolute;border-left: 1px solid gray;box-sizing: border-box;top: 0;bottom: 0;left: 50%;z-index: 0;}#sk-container-id-4 div.sk-serial {display: flex;flex-direction: column;align-items: center;background-color: white;padding-right: 0.2em;padding-left: 0.2em;position: relative;}#sk-container-id-4 div.sk-item {position: relative;z-index: 1;}#sk-container-id-4 div.sk-parallel {display: flex;align-items: stretch;justify-content: center;background-color: white;position: relative;}#sk-container-id-4 div.sk-item::before, #sk-container-id-4 div.sk-parallel-item::before {content: \"\";position: absolute;border-left: 1px solid gray;box-sizing: border-box;top: 0;bottom: 0;left: 50%;z-index: -1;}#sk-container-id-4 div.sk-parallel-item {display: flex;flex-direction: column;z-index: 1;position: relative;background-color: white;}#sk-container-id-4 div.sk-parallel-item:first-child::after {align-self: flex-end;width: 50%;}#sk-container-id-4 div.sk-parallel-item:last-child::after {align-self: flex-start;width: 50%;}#sk-container-id-4 div.sk-parallel-item:only-child::after {width: 0;}#sk-container-id-4 div.sk-dashed-wrapped {border: 1px dashed gray;margin: 0 0.4em 0.5em 0.4em;box-sizing: border-box;padding-bottom: 0.4em;background-color: white;}#sk-container-id-4 div.sk-label label {font-family: monospace;font-weight: bold;display: inline-block;line-height: 1.2em;}#sk-container-id-4 div.sk-label-container {text-align: center;}#sk-container-id-4 div.sk-container {/* jupyter's `normalize.less` sets `[hidden] { display: none; }` but bootstrap.min.css set `[hidden] { display: none !important; }` so we also need the `!important` here to be able to override the default hidden behavior on the sphinx rendered scikit-learn.org. See: https://github.com/scikit-learn/scikit-learn/issues/21755 */display: inline-block !important;position: relative;}#sk-container-id-4 div.sk-text-repr-fallback {display: none;}</style><div id=\"sk-container-id-4\" class=\"sk-top-container\"><div class=\"sk-text-repr-fallback\"><pre>GridSearchCV(cv=10, estimator=SVC(),\n",
       "             param_grid={&#x27;C&#x27;: [0.001], &#x27;gamma&#x27;: [0.001]}, scoring=&#x27;accuracy&#x27;)</pre><b>In a Jupyter environment, please rerun this cell to show the HTML representation or trust the notebook. <br />On GitHub, the HTML representation is unable to render, please try loading this page with nbviewer.org.</b></div><div class=\"sk-container\" hidden><div class=\"sk-item sk-dashed-wrapped\"><div class=\"sk-label-container\"><div class=\"sk-label sk-toggleable\"><input class=\"sk-toggleable__control sk-hidden--visually\" id=\"sk-estimator-id-8\" type=\"checkbox\" ><label for=\"sk-estimator-id-8\" class=\"sk-toggleable__label sk-toggleable__label-arrow\">GridSearchCV</label><div class=\"sk-toggleable__content\"><pre>GridSearchCV(cv=10, estimator=SVC(),\n",
       "             param_grid={&#x27;C&#x27;: [0.001], &#x27;gamma&#x27;: [0.001]}, scoring=&#x27;accuracy&#x27;)</pre></div></div></div><div class=\"sk-parallel\"><div class=\"sk-parallel-item\"><div class=\"sk-item\"><div class=\"sk-label-container\"><div class=\"sk-label sk-toggleable\"><input class=\"sk-toggleable__control sk-hidden--visually\" id=\"sk-estimator-id-9\" type=\"checkbox\" ><label for=\"sk-estimator-id-9\" class=\"sk-toggleable__label sk-toggleable__label-arrow\">estimator: SVC</label><div class=\"sk-toggleable__content\"><pre>SVC()</pre></div></div></div><div class=\"sk-serial\"><div class=\"sk-item\"><div class=\"sk-estimator sk-toggleable\"><input class=\"sk-toggleable__control sk-hidden--visually\" id=\"sk-estimator-id-10\" type=\"checkbox\" ><label for=\"sk-estimator-id-10\" class=\"sk-toggleable__label sk-toggleable__label-arrow\">SVC</label><div class=\"sk-toggleable__content\"><pre>SVC()</pre></div></div></div></div></div></div></div></div></div></div>"
      ],
      "text/plain": [
       "GridSearchCV(cv=10, estimator=SVC(),\n",
       "             param_grid={'C': [0.001], 'gamma': [0.001]}, scoring='accuracy')"
      ]
     },
     "execution_count": 387,
     "metadata": {},
     "output_type": "execute_result"
    }
   ],
   "source": [
    "svc_model=SVC()\n",
    "params = {'C':[0.001] , 'gamma': [0.001]}\n",
    "svcClf = GridSearchCV(svc_model, param_grid = params, scoring = 'accuracy', cv = 10)\n",
    "\n",
    "svcClf.fit(x_train, y_train)"
   ]
  },
  {
   "cell_type": "code",
   "execution_count": 388,
   "id": "f4c5edd1",
   "metadata": {},
   "outputs": [
    {
     "data": {
      "text/plain": [
       "0.755"
      ]
     },
     "execution_count": 388,
     "metadata": {},
     "output_type": "execute_result"
    }
   ],
   "source": [
    "y_pred=svcClf.predict(x_test)\n",
    "score=accuracy_score(y_test,y_pred)\n",
    "score"
   ]
  },
  {
   "cell_type": "code",
   "execution_count": 389,
   "id": "986d23a9",
   "metadata": {},
   "outputs": [
    {
     "data": {
      "image/png": "[encoded data removed]",
      "text/plain": [
       "<Figure size 432x288 with 2 Axes>"
      ]
     },
     "metadata": {
      "needs_background": "light"
     },
     "output_type": "display_data"
    }
   ],
   "source": [
    "confusion_matrix=metrics.confusion_matrix(y_test,y_pred)\n",
    "display=metrics.ConfusionMatrixDisplay(confusion_matrix=confusion_matrix)\n",
    "display.plot()\n",
    "plt.show()"
   ]
  },
  {
   "cell_type": "code",
   "execution_count": 390,
   "id": "5adc3ab2",
   "metadata": {},
   "outputs": [
    {
     "name": "stdout",
     "output_type": "stream",
     "text": [
      "              precision    recall  f1-score   support\n",
      "\n",
      "           0       0.76      1.00      0.86       151\n",
      "           1       0.00      0.00      0.00        49\n",
      "\n",
      "    accuracy                           0.76       200\n",
      "   macro avg       0.38      0.50      0.43       200\n",
      "weighted avg       0.57      0.76      0.65       200\n",
      "\n"
     ]
    }
   ],
   "source": [
    "print(metrics.classification_report(y_test,y_pred))"
   ]
  },
  {
   "cell_type": "code",
   "execution_count": 391,
   "id": "2b4c0673",
   "metadata": {},
   "outputs": [
    {
     "name": "stdout",
     "output_type": "stream",
     "text": [
      "{'n_estimators': [200, 400, 600, 800, 1000, 1200, 1400, 1600, 1800, 2000], 'max_features': ['auto', 'sqrt'], 'max_depth': [10, 20, 30, 40, 50, 60, 70, 80, 90, 100, 110, None], 'min_samples_split': [2, 5, 10], 'min_samples_leaf': [1, 2, 4], 'bootstrap': [True, False]}\n"
     ]
    }
   ],
   "source": [
    "from sklearn.model_selection import RandomizedSearchCV\n",
    "\n",
    "n_estimators = [int(x) for x in np.linspace(start = 200, stop = 2000, num = 10)]\n",
    "\n",
    "max_features = ['auto', 'sqrt']\n",
    "\n",
    "max_depth = [int(x) for x in np.linspace(10, 110, num = 11)]\n",
    "max_depth.append(None)\n",
    "\n",
    "min_samples_split = [2, 5, 10]\n",
    "\n",
    "min_samples_leaf = [1, 2, 4]\n",
    "\n",
    "bootstrap = [True, False]\n",
    "#\n",
    "random_grid = {'n_estimators': n_estimators,\n",
    "               'max_features': max_features,\n",
    "               'max_depth': max_depth,\n",
    "               'min_samples_split': min_samples_split,\n",
    "               'min_samples_leaf': min_samples_leaf,\n",
    "               'bootstrap': bootstrap}\n",
    "print(random_grid)"
   ]
  },
  {
   "cell_type": "code",
   "execution_count": 392,
   "id": "56115e58",
   "metadata": {},
   "outputs": [],
   "source": [
    "from sklearn.ensemble import RandomForestClassifier"
   ]
  },
  {
   "cell_type": "code",
   "execution_count": 393,
   "id": "03b71071",
   "metadata": {},
   "outputs": [
    {
     "data": {
      "text/html": [
       "<style>#sk-container-id-5 {color: black;background-color: white;}#sk-container-id-5 pre{padding: 0;}#sk-container-id-5 div.sk-toggleable {background-color: white;}#sk-container-id-5 label.sk-toggleable__label {cursor: pointer;display: block;width: 100%;margin-bottom: 0;padding: 0.3em;box-sizing: border-box;text-align: center;}#sk-container-id-5 label.sk-toggleable__label-arrow:before {content: \"▸\";float: left;margin-right: 0.25em;color: #696969;}#sk-container-id-5 label.sk-toggleable__label-arrow:hover:before {color: black;}#sk-container-id-5 div.sk-estimator:hover label.sk-toggleable__label-arrow:before {color: black;}#sk-container-id-5 div.sk-toggleable__content {max-height: 0;max-width: 0;overflow: hidden;text-align: left;background-color: #f0f8ff;}#sk-container-id-5 div.sk-toggleable__content pre {margin: 0.2em;color: black;border-radius: 0.25em;background-color: #f0f8ff;}#sk-container-id-5 input.sk-toggleable__control:checked~div.sk-toggleable__content {max-height: 200px;max-width: 100%;overflow: auto;}#sk-container-id-5 input.sk-toggleable__control:checked~label.sk-toggleable__label-arrow:before {content: \"▾\";}#sk-container-id-5 div.sk-estimator input.sk-toggleable__control:checked~label.sk-toggleable__label {background-color: #d4ebff;}#sk-container-id-5 div.sk-label input.sk-toggleable__control:checked~label.sk-toggleable__label {background-color: #d4ebff;}#sk-container-id-5 input.sk-hidden--visually {border: 0;clip: rect(1px 1px 1px 1px);clip: rect(1px, 1px, 1px, 1px);height: 1px;margin: -1px;overflow: hidden;padding: 0;position: absolute;width: 1px;}#sk-container-id-5 div.sk-estimator {font-family: monospace;background-color: #f0f8ff;border: 1px dotted black;border-radius: 0.25em;box-sizing: border-box;margin-bottom: 0.5em;}#sk-container-id-5 div.sk-estimator:hover {background-color: #d4ebff;}#sk-container-id-5 div.sk-parallel-item::after {content: \"\";width: 100%;border-bottom: 1px solid gray;flex-grow: 1;}#sk-container-id-5 div.sk-label:hover label.sk-toggleable__label {background-color: #d4ebff;}#sk-container-id-5 div.sk-serial::before {content: \"\";position: absolute;border-left: 1px solid gray;box-sizing: border-box;top: 0;bottom: 0;left: 50%;z-index: 0;}#sk-container-id-5 div.sk-serial {display: flex;flex-direction: column;align-items: center;background-color: white;padding-right: 0.2em;padding-left: 0.2em;position: relative;}#sk-container-id-5 div.sk-item {position: relative;z-index: 1;}#sk-container-id-5 div.sk-parallel {display: flex;align-items: stretch;justify-content: center;background-color: white;position: relative;}#sk-container-id-5 div.sk-item::before, #sk-container-id-5 div.sk-parallel-item::before {content: \"\";position: absolute;border-left: 1px solid gray;box-sizing: border-box;top: 0;bottom: 0;left: 50%;z-index: -1;}#sk-container-id-5 div.sk-parallel-item {display: flex;flex-direction: column;z-index: 1;position: relative;background-color: white;}#sk-container-id-5 div.sk-parallel-item:first-child::after {align-self: flex-end;width: 50%;}#sk-container-id-5 div.sk-parallel-item:last-child::after {align-self: flex-start;width: 50%;}#sk-container-id-5 div.sk-parallel-item:only-child::after {width: 0;}#sk-container-id-5 div.sk-dashed-wrapped {border: 1px dashed gray;margin: 0 0.4em 0.5em 0.4em;box-sizing: border-box;padding-bottom: 0.4em;background-color: white;}#sk-container-id-5 div.sk-label label {font-family: monospace;font-weight: bold;display: inline-block;line-height: 1.2em;}#sk-container-id-5 div.sk-label-container {text-align: center;}#sk-container-id-5 div.sk-container {/* jupyter's `normalize.less` sets `[hidden] { display: none; }` but bootstrap.min.css set `[hidden] { display: none !important; }` so we also need the `!important` here to be able to override the default hidden behavior on the sphinx rendered scikit-learn.org. See: https://github.com/scikit-learn/scikit-learn/issues/21755 */display: inline-block !important;position: relative;}#sk-container-id-5 div.sk-text-repr-fallback {display: none;}</style><div id=\"sk-container-id-5\" class=\"sk-top-container\"><div class=\"sk-text-repr-fallback\"><pre>RandomForestClassifier()</pre><b>In a Jupyter environment, please rerun this cell to show the HTML representation or trust the notebook. <br />On GitHub, the HTML representation is unable to render, please try loading this page with nbviewer.org.</b></div><div class=\"sk-container\" hidden><div class=\"sk-item\"><div class=\"sk-estimator sk-toggleable\"><input class=\"sk-toggleable__control sk-hidden--visually\" id=\"sk-estimator-id-11\" type=\"checkbox\" checked><label for=\"sk-estimator-id-11\" class=\"sk-toggleable__label sk-toggleable__label-arrow\">RandomForestClassifier</label><div class=\"sk-toggleable__content\"><pre>RandomForestClassifier()</pre></div></div></div></div></div>"
      ],
      "text/plain": [
       "RandomForestClassifier()"
      ]
     },
     "execution_count": 393,
     "metadata": {},
     "output_type": "execute_result"
    }
   ],
   "source": [
    "rf=RandomForestClassifier()\n",
    "rf_random = RandomizedSearchCV(estimator = rf, param_distributions = random_grid, n_iter = 100, cv = 10, verbose=2, random_state=42, n_jobs = -1)\n",
    "rf.fit(x_train, y_train)"
   ]
  },
  {
   "cell_type": "code",
   "execution_count": 394,
   "id": "ff3c827d",
   "metadata": {},
   "outputs": [
    {
     "data": {
      "image/png": "[encoded data removed]",
      "text/plain": [
       "<Figure size 432x288 with 2 Axes>"
      ]
     },
     "metadata": {
      "needs_background": "light"
     },
     "output_type": "display_data"
    },
    {
     "name": "stdout",
     "output_type": "stream",
     "text": [
      "              precision    recall  f1-score   support\n",
      "\n",
      "           0       0.76      1.00      0.86       151\n",
      "           1       0.00      0.00      0.00        49\n",
      "\n",
      "    accuracy                           0.76       200\n",
      "   macro avg       0.38      0.50      0.43       200\n",
      "weighted avg       0.57      0.76      0.65       200\n",
      "\n"
     ]
    }
   ],
   "source": [
    "confusion_matrix=metrics.confusion_matrix(y_test,y_pred)\n",
    "display=metrics.ConfusionMatrixDisplay(confusion_matrix=confusion_matrix)\n",
    "display.plot()\n",
    "plt.show()\n",
    "print(metrics.classification_report(y_test,y_pred))"
   ]
  },
  {
   "cell_type": "code",
   "execution_count": 395,
   "id": "966746b0",
   "metadata": {},
   "outputs": [
    {
     "data": {
      "text/plain": [
       "0.625"
      ]
     },
     "execution_count": 395,
     "metadata": {},
     "output_type": "execute_result"
    }
   ],
   "source": [
    "from sklearn.neighbors import KNeighborsClassifier\n",
    "kn=KNeighborsClassifier()\n",
    "kn.fit(x_train,y_train)\n",
    "y_pred=kn.predict(x_test)\n",
    "score=accuracy_score(y_test,y_pred)\n",
    "score"
   ]
  },
  {
   "cell_type": "code",
   "execution_count": 396,
   "id": "2362e8f5",
   "metadata": {},
   "outputs": [
    {
     "data": {
      "image/png": "[encoded data removed]",
      "text/plain": [
       "<Figure size 432x288 with 2 Axes>"
      ]
     },
     "metadata": {
      "needs_background": "light"
     },
     "output_type": "display_data"
    }
   ],
   "source": [
    "confusion_matrix=metrics.confusion_matrix(y_test,y_pred)\n",
    "display=metrics.ConfusionMatrixDisplay(confusion_matrix=confusion_matrix)\n",
    "display.plot()\n",
    "plt.show()"
   ]
  },
  {
   "cell_type": "code",
   "execution_count": 397,
   "id": "db7c7dee",
   "metadata": {},
   "outputs": [
    {
     "name": "stdout",
     "output_type": "stream",
     "text": [
      "              precision    recall  f1-score   support\n",
      "\n",
      "           0       0.78      0.70      0.74       151\n",
      "           1       0.30      0.39      0.34        49\n",
      "\n",
      "    accuracy                           0.62       200\n",
      "   macro avg       0.54      0.54      0.54       200\n",
      "weighted avg       0.66      0.62      0.64       200\n",
      "\n"
     ]
    }
   ],
   "source": [
    "print(metrics.classification_report(y_test,y_pred))"
   ]
  },
  {
   "cell_type": "code",
   "execution_count": 398,
   "id": "b2c3150f",
   "metadata": {},
   "outputs": [
    {
     "data": {
      "text/plain": [
       "<sklearn.metrics._plot.roc_curve.RocCurveDisplay at 0x7fa1b024b940>"
      ]
     },
     "execution_count": 398,
     "metadata": {},
     "output_type": "execute_result"
    },
    {
     "data": {
      "image/png": "[encoded data removed]",
      "text/plain": [
       "<Figure size 432x288 with 1 Axes>"
      ]
     },
     "metadata": {
      "needs_background": "light"
     },
     "output_type": "display_data"
    }
   ],
   "source": [
    "from sklearn.metrics import accuracy_score,confusion_matrix,roc_curve,roc_auc_score,plot_roc_curve\n",
    "disp=plot_roc_curve(clf,x_test,y_test)\n",
    "plot_roc_curve(lr,x_test,y_test,ax=disp.ax_)\n",
    "plot_roc_curve(kn,x_test,y_test,ax=disp.ax_)\n",
    "plot_roc_curve(svcClf,x_test,y_test,ax=disp.ax_)\n",
    "plot_roc_curve(rf,x_test,y_test,ax=disp.ax_)"
   ]
  },
  {
   "cell_type": "code",
   "execution_count": 399,
   "id": "454b5453",
   "metadata": {},
   "outputs": [
    {
     "data": {
      "text/plain": [
       "<sklearn.metrics._plot.roc_curve.RocCurveDisplay at 0x7fa1aeb990c0>"
      ]
     },
     "execution_count": 399,
     "metadata": {},
     "output_type": "execute_result"
    },
    {
     "data": {
      "image/png": "[encoded data removed]",
      "text/plain": [
       "<Figure size 432x288 with 1 Axes>"
      ]
     },
     "metadata": {
      "needs_background": "light"
     },
     "output_type": "display_data"
    }
   ],
   "source": [
    "disp=plot_roc_curve(clf,x_test,y_test)\n",
    "plot_roc_curve(lr,x_test,y_test,ax=disp.ax_)\n",
    "plot_roc_curve(kn,x_test,y_test,ax=disp.ax_)\n",
    "plot_roc_curve(svcClf,x_train,y_train,ax=disp.ax_)\n",
    "plot_roc_curve(rf,x_test,y_test,ax=disp.ax_)"
   ]
  },
  {
   "cell_type": "code",
   "execution_count": null,
   "id": "be33367f",
   "metadata": {},
   "outputs": [],
   "source": [
    "#Both logistic regression and random forest classifer gives same accuracy. i go with logistic regression since cost of training is lower for logistic regression then Random forest regressor\n",
    "import pickle\n",
    "filename=\"Survive\"\n",
    "pickle.dump(lr,open(filename,\"wb\"))"
   ]
  }
 ],
 "metadata": {
  "kernelspec": {
   "display_name": "Python 3 (ipykernel)",
   "language": "python",
   "name": "python3"
  },
  "language_info": {
   "codemirror_mode": {
    "name": "ipython",
    "version": 3
   },
   "file_extension": ".py",
   "mimetype": "text/x-python",
   "name": "python",
   "nbconvert_exporter": "python",
   "pygments_lexer": "ipython3",
   "version": "3.10.4"
  }
 },
 "nbformat": 4,
 "nbformat_minor": 5
}
