{
 "cells": [
  {
   "cell_type": "code",
   "execution_count": null,
   "id": "6b991874",
   "metadata": {},
   "outputs": [],
   "source": []
  },
  {
   "cell_type": "code",
   "execution_count": 124,
   "id": "ea140889",
   "metadata": {},
   "outputs": [],
   "source": [
    "import pandas as pd\n",
    "import numpy as np\n",
    "import matplotlib. pyplot as plt\n",
    "from sklearn.preprocessing import LabelEncoder\n",
    "from sklearn.tree import DecisionTreeRegressor\n",
    "import seaborn as sns\n",
    "import warnings \n",
    "warnings.filterwarnings(\"ignore\")"
   ]
  },
  {
   "cell_type": "code",
   "execution_count": null,
   "id": "7f636198",
   "metadata": {},
   "outputs": [],
   "source": []
  },
  {
   "cell_type": "code",
   "execution_count": 125,
   "id": "16c1ca5c",
   "metadata": {},
   "outputs": [],
   "source": [
    "df_train=pd.read_excel(\"/home/revathy/Downloads/Flight_Ticket_Participant_Datasets/Data_Train.xlsx\")\n",
    "df_test=pd.read_excel(\"/home/revathy/Downloads/Flight_Ticket_Participant_Datasets/Test_set.xlsx\")"
   ]
  },
  {
   "cell_type": "code",
   "execution_count": 126,
   "id": "6a954c90",
   "metadata": {},
   "outputs": [],
   "source": [
    "df=pd.concat([df_train,df_test])"
   ]
  },
  {
   "cell_type": "code",
   "execution_count": 127,
   "id": "f124000a",
   "metadata": {},
   "outputs": [
    {
     "data": {
      "text/html": [
       "<div>\n",
       "<style scoped>\n",
       "    .dataframe tbody tr th:only-of-type {\n",
       "        vertical-align: middle;\n",
       "    }\n",
       "\n",
       "    .dataframe tbody tr th {\n",
       "        vertical-align: top;\n",
       "    }\n",
       "\n",
       "    .dataframe thead th {\n",
       "        text-align: right;\n",
       "    }\n",
       "</style>\n",
       "<table border=\"1\" class=\"dataframe\">\n",
       "  <thead>\n",
       "    <tr style=\"text-align: right;\">\n",
       "      <th></th>\n",
       "      <th>Airline</th>\n",
       "      <th>Date_of_Journey</th>\n",
       "      <th>Source</th>\n",
       "      <th>Destination</th>\n",
       "      <th>Route</th>\n",
       "      <th>Dep_Time</th>\n",
       "      <th>Arrival_Time</th>\n",
       "      <th>Duration</th>\n",
       "      <th>Total_Stops</th>\n",
       "      <th>Additional_Info</th>\n",
       "      <th>Price</th>\n",
       "    </tr>\n",
       "  </thead>\n",
       "  <tbody>\n",
       "    <tr>\n",
       "      <th>0</th>\n",
       "      <td>IndiGo</td>\n",
       "      <td>24/03/2019</td>\n",
       "      <td>Banglore</td>\n",
       "      <td>New Delhi</td>\n",
       "      <td>BLR → DEL</td>\n",
       "      <td>22:20</td>\n",
       "      <td>01:10 22 Mar</td>\n",
       "      <td>2h 50m</td>\n",
       "      <td>non-stop</td>\n",
       "      <td>No info</td>\n",
       "      <td>3897.0</td>\n",
       "    </tr>\n",
       "    <tr>\n",
       "      <th>1</th>\n",
       "      <td>Air India</td>\n",
       "      <td>1/05/2019</td>\n",
       "      <td>Kolkata</td>\n",
       "      <td>Banglore</td>\n",
       "      <td>CCU → IXR → BBI → BLR</td>\n",
       "      <td>05:50</td>\n",
       "      <td>13:15</td>\n",
       "      <td>7h 25m</td>\n",
       "      <td>2 stops</td>\n",
       "      <td>No info</td>\n",
       "      <td>7662.0</td>\n",
       "    </tr>\n",
       "    <tr>\n",
       "      <th>2</th>\n",
       "      <td>Jet Airways</td>\n",
       "      <td>9/06/2019</td>\n",
       "      <td>Delhi</td>\n",
       "      <td>Cochin</td>\n",
       "      <td>DEL → LKO → BOM → COK</td>\n",
       "      <td>09:25</td>\n",
       "      <td>04:25 10 Jun</td>\n",
       "      <td>19h</td>\n",
       "      <td>2 stops</td>\n",
       "      <td>No info</td>\n",
       "      <td>13882.0</td>\n",
       "    </tr>\n",
       "    <tr>\n",
       "      <th>3</th>\n",
       "      <td>IndiGo</td>\n",
       "      <td>12/05/2019</td>\n",
       "      <td>Kolkata</td>\n",
       "      <td>Banglore</td>\n",
       "      <td>CCU → NAG → BLR</td>\n",
       "      <td>18:05</td>\n",
       "      <td>23:30</td>\n",
       "      <td>5h 25m</td>\n",
       "      <td>1 stop</td>\n",
       "      <td>No info</td>\n",
       "      <td>6218.0</td>\n",
       "    </tr>\n",
       "    <tr>\n",
       "      <th>4</th>\n",
       "      <td>IndiGo</td>\n",
       "      <td>01/03/2019</td>\n",
       "      <td>Banglore</td>\n",
       "      <td>New Delhi</td>\n",
       "      <td>BLR → NAG → DEL</td>\n",
       "      <td>16:50</td>\n",
       "      <td>21:35</td>\n",
       "      <td>4h 45m</td>\n",
       "      <td>1 stop</td>\n",
       "      <td>No info</td>\n",
       "      <td>13302.0</td>\n",
       "    </tr>\n",
       "  </tbody>\n",
       "</table>\n",
       "</div>"
      ],
      "text/plain": [
       "       Airline Date_of_Journey    Source Destination                  Route  \\\n",
       "0       IndiGo      24/03/2019  Banglore   New Delhi              BLR → DEL   \n",
       "1    Air India       1/05/2019   Kolkata    Banglore  CCU → IXR → BBI → BLR   \n",
       "2  Jet Airways       9/06/2019     Delhi      Cochin  DEL → LKO → BOM → COK   \n",
       "3       IndiGo      12/05/2019   Kolkata    Banglore        CCU → NAG → BLR   \n",
       "4       IndiGo      01/03/2019  Banglore   New Delhi        BLR → NAG → DEL   \n",
       "\n",
       "  Dep_Time  Arrival_Time Duration Total_Stops Additional_Info    Price  \n",
       "0    22:20  01:10 22 Mar   2h 50m    non-stop         No info   3897.0  \n",
       "1    05:50         13:15   7h 25m     2 stops         No info   7662.0  \n",
       "2    09:25  04:25 10 Jun      19h     2 stops         No info  13882.0  \n",
       "3    18:05         23:30   5h 25m      1 stop         No info   6218.0  \n",
       "4    16:50         21:35   4h 45m      1 stop         No info  13302.0  "
      ]
     },
     "execution_count": 127,
     "metadata": {},
     "output_type": "execute_result"
    }
   ],
   "source": [
    "df.head()"
   ]
  },
  {
   "cell_type": "code",
   "execution_count": 128,
   "id": "7eaac57a",
   "metadata": {},
   "outputs": [
    {
     "data": {
      "text/plain": [
       "(13354, 11)"
      ]
     },
     "execution_count": 128,
     "metadata": {},
     "output_type": "execute_result"
    }
   ],
   "source": [
    "df.shape"
   ]
  },
  {
   "cell_type": "code",
   "execution_count": 129,
   "id": "68c05deb",
   "metadata": {},
   "outputs": [
    {
     "data": {
      "text/plain": [
       "Index(['Airline', 'Date_of_Journey', 'Source', 'Destination', 'Route',\n",
       "       'Dep_Time', 'Arrival_Time', 'Duration', 'Total_Stops',\n",
       "       'Additional_Info', 'Price'],\n",
       "      dtype='object')"
      ]
     },
     "execution_count": 129,
     "metadata": {},
     "output_type": "execute_result"
    }
   ],
   "source": [
    "df.columns"
   ]
  },
  {
   "cell_type": "code",
   "execution_count": 130,
   "id": "f36c7c36",
   "metadata": {},
   "outputs": [
    {
     "name": "stdout",
     "output_type": "stream",
     "text": [
      "<class 'pandas.core.frame.DataFrame'>\n",
      "Int64Index: 13354 entries, 0 to 2670\n",
      "Data columns (total 11 columns):\n",
      " #   Column           Non-Null Count  Dtype  \n",
      "---  ------           --------------  -----  \n",
      " 0   Airline          13354 non-null  object \n",
      " 1   Date_of_Journey  13354 non-null  object \n",
      " 2   Source           13354 non-null  object \n",
      " 3   Destination      13354 non-null  object \n",
      " 4   Route            13353 non-null  object \n",
      " 5   Dep_Time         13354 non-null  object \n",
      " 6   Arrival_Time     13354 non-null  object \n",
      " 7   Duration         13354 non-null  object \n",
      " 8   Total_Stops      13353 non-null  object \n",
      " 9   Additional_Info  13354 non-null  object \n",
      " 10  Price            10683 non-null  float64\n",
      "dtypes: float64(1), object(10)\n",
      "memory usage: 1.2+ MB\n"
     ]
    }
   ],
   "source": [
    "df.info()\n",
    "#there are 9 object type is there"
   ]
  },
  {
   "cell_type": "code",
   "execution_count": 131,
   "id": "9b6cd1a5",
   "metadata": {},
   "outputs": [
    {
     "data": {
      "text/plain": [
       "Airline               0\n",
       "Date_of_Journey       0\n",
       "Source                0\n",
       "Destination           0\n",
       "Route                 1\n",
       "Dep_Time              0\n",
       "Arrival_Time          0\n",
       "Duration              0\n",
       "Total_Stops           1\n",
       "Additional_Info       0\n",
       "Price              2671\n",
       "dtype: int64"
      ]
     },
     "execution_count": 131,
     "metadata": {},
     "output_type": "execute_result"
    }
   ],
   "source": [
    "#check null values\n",
    "df.isnull().sum()"
   ]
  },
  {
   "cell_type": "code",
   "execution_count": 132,
   "id": "3e357a8b",
   "metadata": {},
   "outputs": [],
   "source": [
    "#fill price null values\n",
    "df[\"Price\"]=df[\"Price\"].fillna(df[\"Price\"].mean())"
   ]
  },
  {
   "cell_type": "code",
   "execution_count": 133,
   "id": "040863d8",
   "metadata": {},
   "outputs": [
    {
     "data": {
      "text/plain": [
       "Airline            0\n",
       "Date_of_Journey    0\n",
       "Source             0\n",
       "Destination        0\n",
       "Route              1\n",
       "Dep_Time           0\n",
       "Arrival_Time       0\n",
       "Duration           0\n",
       "Total_Stops        1\n",
       "Additional_Info    0\n",
       "Price              0\n",
       "dtype: int64"
      ]
     },
     "execution_count": 133,
     "metadata": {},
     "output_type": "execute_result"
    }
   ],
   "source": [
    "df.isnull().sum()"
   ]
  },
  {
   "cell_type": "code",
   "execution_count": 134,
   "id": "a143bead",
   "metadata": {},
   "outputs": [
    {
     "data": {
      "text/plain": [
       "Jet Airways                          4746\n",
       "IndiGo                               2564\n",
       "Air India                            2192\n",
       "Multiple carriers                    1543\n",
       "SpiceJet                             1026\n",
       "Vistara                               608\n",
       "Air Asia                              405\n",
       "GoAir                                 240\n",
       "Multiple carriers Premium economy      16\n",
       "Jet Airways Business                    8\n",
       "Vistara Premium economy                 5\n",
       "Trujet                                  1\n",
       "Name: Airline, dtype: int64"
      ]
     },
     "execution_count": 134,
     "metadata": {},
     "output_type": "execute_result"
    }
   ],
   "source": [
    "#neglect other null values since it has very less percentage of null values\n",
    "#lets find values for each columns\n",
    "df[\"Airline\"].value_counts()"
   ]
  },
  {
   "cell_type": "code",
   "execution_count": 135,
   "id": "81bf83c1",
   "metadata": {},
   "outputs": [
    {
     "data": {
      "text/plain": [
       "18/05/2019    633\n",
       "6/06/2019     630\n",
       "9/05/2019     628\n",
       "12/06/2019    628\n",
       "21/05/2019    615\n",
       "9/06/2019     614\n",
       "21/03/2019    516\n",
       "15/05/2019    511\n",
       "27/05/2019    447\n",
       "24/06/2019    436\n",
       "15/06/2019    433\n",
       "1/06/2019     430\n",
       "27/06/2019    430\n",
       "3/06/2019     425\n",
       "6/03/2019     405\n",
       "24/03/2019    401\n",
       "27/03/2019    364\n",
       "24/05/2019    357\n",
       "6/05/2019     355\n",
       "1/05/2019     339\n",
       "1/04/2019     335\n",
       "12/05/2019    327\n",
       "3/03/2019     280\n",
       "9/03/2019     255\n",
       "18/03/2019    197\n",
       "15/03/2019    195\n",
       "01/03/2019    186\n",
       "12/03/2019    185\n",
       "9/04/2019     149\n",
       "3/04/2019     138\n",
       "21/06/2019    133\n",
       "18/06/2019    127\n",
       "03/03/2019    123\n",
       "09/03/2019    123\n",
       "06/03/2019    123\n",
       "3/05/2019     117\n",
       "6/04/2019     114\n",
       "24/04/2019    113\n",
       "15/04/2019    112\n",
       "27/04/2019    109\n",
       "21/04/2019    104\n",
       "18/04/2019     79\n",
       "12/04/2019     74\n",
       "1/03/2019      59\n",
       "Name: Date_of_Journey, dtype: int64"
      ]
     },
     "execution_count": 135,
     "metadata": {},
     "output_type": "execute_result"
    }
   ],
   "source": [
    "df[\"Date_of_Journey\"].value_counts()"
   ]
  },
  {
   "cell_type": "code",
   "execution_count": 136,
   "id": "6ecfcc4a",
   "metadata": {},
   "outputs": [
    {
     "data": {
      "text/plain": [
       "Delhi       5682\n",
       "Kolkata     3581\n",
       "Banglore    2752\n",
       "Mumbai       883\n",
       "Chennai      456\n",
       "Name: Source, dtype: int64"
      ]
     },
     "execution_count": 136,
     "metadata": {},
     "output_type": "execute_result"
    }
   ],
   "source": [
    "df[\"Source\"].value_counts()"
   ]
  },
  {
   "cell_type": "code",
   "execution_count": 137,
   "id": "e76c7ae9",
   "metadata": {},
   "outputs": [
    {
     "data": {
      "text/plain": [
       "DEL → BOM → COK                3000\n",
       "BLR → DEL                      1941\n",
       "CCU → BOM → BLR                1232\n",
       "CCU → BLR                       896\n",
       "BOM → HYD                       785\n",
       "                               ... \n",
       "BOM → JLR → HYD                   1\n",
       "BOM → NDC → HYD                   1\n",
       "BOM → COK → MAA → HYD             1\n",
       "BOM → JDH → JAI → DEL → HYD       1\n",
       "BOM → IXC → DEL → HYD             1\n",
       "Name: Route, Length: 132, dtype: int64"
      ]
     },
     "execution_count": 137,
     "metadata": {},
     "output_type": "execute_result"
    }
   ],
   "source": [
    "df.Route.value_counts()"
   ]
  },
  {
   "cell_type": "code",
   "execution_count": 138,
   "id": "7b53b7d7",
   "metadata": {},
   "outputs": [
    {
     "data": {
      "text/plain": [
       "18:55    288\n",
       "17:00    275\n",
       "10:00    265\n",
       "07:05    240\n",
       "07:10    239\n",
       "        ... \n",
       "22:25      1\n",
       "12:05      1\n",
       "21:40      1\n",
       "03:00      1\n",
       "22:30      1\n",
       "Name: Dep_Time, Length: 223, dtype: int64"
      ]
     },
     "execution_count": 138,
     "metadata": {},
     "output_type": "execute_result"
    }
   ],
   "source": [
    "df.Dep_Time.value_counts()"
   ]
  },
  {
   "cell_type": "code",
   "execution_count": 139,
   "id": "ffdbda56",
   "metadata": {},
   "outputs": [
    {
     "data": {
      "text/plain": [
       "Cochin       5682\n",
       "Banglore     3581\n",
       "Delhi        1582\n",
       "New Delhi    1170\n",
       "Hyderabad     883\n",
       "Kolkata       456\n",
       "Name: Destination, dtype: int64"
      ]
     },
     "execution_count": 139,
     "metadata": {},
     "output_type": "execute_result"
    }
   ],
   "source": [
    "df.Destination.value_counts()"
   ]
  },
  {
   "cell_type": "code",
   "execution_count": 140,
   "id": "7ba04d1d",
   "metadata": {},
   "outputs": [
    {
     "data": {
      "text/plain": [
       "19:00           536\n",
       "21:00           466\n",
       "19:15           434\n",
       "16:10           185\n",
       "12:35           159\n",
       "               ... \n",
       "13:15 22 May      1\n",
       "08:50 07 Mar      1\n",
       "06:50 28 Apr      1\n",
       "00:25 22 Jun      1\n",
       "07:45 13 May      1\n",
       "Name: Arrival_Time, Length: 1451, dtype: int64"
      ]
     },
     "execution_count": 140,
     "metadata": {},
     "output_type": "execute_result"
    }
   ],
   "source": [
    "df.Arrival_Time.value_counts()"
   ]
  },
  {
   "cell_type": "code",
   "execution_count": 141,
   "id": "fc067ca7",
   "metadata": {},
   "outputs": [
    {
     "data": {
      "text/plain": [
       "2h 50m     672\n",
       "1h 30m     493\n",
       "2h 45m     432\n",
       "2h 55m     418\n",
       "2h 35m     399\n",
       "          ... \n",
       "29h 10m      1\n",
       "32h 55m      1\n",
       "31h 30m      1\n",
       "35h 20m      1\n",
       "32h 25m      1\n",
       "Name: Duration, Length: 374, dtype: int64"
      ]
     },
     "execution_count": 141,
     "metadata": {},
     "output_type": "execute_result"
    }
   ],
   "source": [
    "df.Duration.value_counts()"
   ]
  },
  {
   "cell_type": "code",
   "execution_count": 142,
   "id": "94867cc0",
   "metadata": {},
   "outputs": [
    {
     "data": {
      "text/plain": [
       "1 stop      7056\n",
       "non-stop    4340\n",
       "2 stops     1899\n",
       "3 stops       56\n",
       "4 stops        2\n",
       "Name: Total_Stops, dtype: int64"
      ]
     },
     "execution_count": 142,
     "metadata": {},
     "output_type": "execute_result"
    }
   ],
   "source": [
    "df.Total_Stops.value_counts()"
   ]
  },
  {
   "cell_type": "code",
   "execution_count": 143,
   "id": "135ab892",
   "metadata": {},
   "outputs": [
    {
     "data": {
      "text/plain": [
       "No info                         10493\n",
       "In-flight meal not included      2426\n",
       "No check-in baggage included      396\n",
       "1 Long layover                     20\n",
       "Change airports                     8\n",
       "Business class                      5\n",
       "No Info                             3\n",
       "1 Short layover                     1\n",
       "Red-eye flight                      1\n",
       "2 Long layover                      1\n",
       "Name: Additional_Info, dtype: int64"
      ]
     },
     "execution_count": 143,
     "metadata": {},
     "output_type": "execute_result"
    }
   ],
   "source": [
    "df.Additional_Info.value_counts()"
   ]
  },
  {
   "cell_type": "code",
   "execution_count": 144,
   "id": "39a8aaea",
   "metadata": {},
   "outputs": [
    {
     "data": {
      "text/plain": [
       "Index(['Airline', 'Date_of_Journey', 'Source', 'Destination', 'Route',\n",
       "       'Dep_Time', 'Arrival_Time', 'Duration', 'Total_Stops',\n",
       "       'Additional_Info', 'Price'],\n",
       "      dtype='object')"
      ]
     },
     "execution_count": 144,
     "metadata": {},
     "output_type": "execute_result"
    }
   ],
   "source": [
    "df.columns"
   ]
  },
  {
   "cell_type": "code",
   "execution_count": 145,
   "id": "f53d1ce0",
   "metadata": {},
   "outputs": [],
   "source": [
    "#Remove unwanted columns in the dataset\n",
    "#In additional_info there is no information column is maximum\n",
    "#arrival time ans dep_time ,route will not contribute to price preediction a\n",
    "df.drop(columns=[\"Route\",\"Additional_Info\"],inplace=True)"
   ]
  },
  {
   "cell_type": "code",
   "execution_count": 146,
   "id": "39bb06d7",
   "metadata": {},
   "outputs": [],
   "source": [
    "#get month and day from the date of journey, date will not contibute to the output\n",
    "df[\"month\"]=df[\"Date_of_Journey\"].str.split(\"/\").str[1].astype(int)\n",
    "df[\"year\"]=df[\"Date_of_Journey\"].str.split(\"/\").str[2].astype(int)\n",
    "df=df.drop(columns=\"Date_of_Journey\",axis=1)"
   ]
  },
  {
   "cell_type": "code",
   "execution_count": 147,
   "id": "c95c70ee",
   "metadata": {},
   "outputs": [],
   "source": [
    "df[\"Arrival_hour\"] = pd.to_datetime(df.Arrival_Time).dt.hour\n",
    "df[\"Dep_Time\"] = pd.to_datetime(df.Dep_Time).dt.hour"
   ]
  },
  {
   "cell_type": "code",
   "execution_count": 148,
   "id": "2256deb5",
   "metadata": {},
   "outputs": [],
   "source": [
    "#convert Duration to minutes\n",
    "df[\"Duration\"]=df[\"Duration\"].str.replace(\"h\",\"*60\").str.replace(\" \",\"+\").str.replace(\"m\",\"*1\").apply(eval)"
   ]
  },
  {
   "cell_type": "code",
   "execution_count": 149,
   "id": "531ae4e9",
   "metadata": {},
   "outputs": [
    {
     "data": {
      "text/plain": [
       "0        170\n",
       "1        445\n",
       "2       1140\n",
       "3        325\n",
       "4        285\n",
       "        ... \n",
       "2666    1435\n",
       "2667     155\n",
       "2668     395\n",
       "2669     915\n",
       "2670     860\n",
       "Name: Duration, Length: 13354, dtype: int64"
      ]
     },
     "execution_count": 149,
     "metadata": {},
     "output_type": "execute_result"
    }
   ],
   "source": [
    "df[\"Duration\"]"
   ]
  },
  {
   "cell_type": "code",
   "execution_count": 150,
   "id": "62aba529",
   "metadata": {},
   "outputs": [
    {
     "data": {
      "image/png": "[encoded data removed]",
      "text/plain": [
       "<Figure size 1080x1224 with 1 Axes>"
      ]
     },
     "metadata": {
      "needs_background": "light"
     },
     "output_type": "display_data"
    }
   ],
   "source": [
    "plt.figure(figsize=(15,17))\n",
    "sns.barplot(df[\"Airline\"].value_counts().keys(),df[\"Airline\"].value_counts())\n",
    "plt.xlabel(\"Airline\")\n",
    "plt.ylabel(\"values\")\n",
    "plt.show()\n",
    "#jet airlines is maximum in number"
   ]
  },
  {
   "cell_type": "code",
   "execution_count": 151,
   "id": "73b3c22d",
   "metadata": {},
   "outputs": [
    {
     "data": {
      "image/png": "[encoded data removed]",
      "text/plain": [
       "<Figure size 1080x1224 with 1 Axes>"
      ]
     },
     "metadata": {
      "needs_background": "light"
     },
     "output_type": "display_data"
    }
   ],
   "source": [
    "plt.figure(figsize=(15,17))\n",
    "sns.barplot(df[\"Source\"].value_counts().keys(),df[\"Source\"].value_counts())\n",
    "plt.xlabel(\"Source\")\n",
    "plt.ylabel(\"values\")\n",
    "plt.show()\n",
    "#delhi is maximum in number"
   ]
  },
  {
   "cell_type": "code",
   "execution_count": 152,
   "id": "c49773f2",
   "metadata": {},
   "outputs": [
    {
     "data": {
      "image/png": "[encoded data removed]",
      "text/plain": [
       "<Figure size 1080x1224 with 1 Axes>"
      ]
     },
     "metadata": {
      "needs_background": "light"
     },
     "output_type": "display_data"
    }
   ],
   "source": [
    "plt.figure(figsize=(15,17))\n",
    "sns.barplot(df[\"Total_Stops\"].value_counts().keys(),df[\"Total_Stops\"].value_counts())\n",
    "plt.xlabel(\"Total_Stops\")\n",
    "plt.ylabel(\"values\")\n",
    "plt.show()\n",
    "#1stop maximum in number"
   ]
  },
  {
   "cell_type": "code",
   "execution_count": 153,
   "id": "911f50e8",
   "metadata": {},
   "outputs": [
    {
     "data": {
      "image/png": "[encoded data removed]",
      "text/plain": [
       "<Figure size 1080x1224 with 1 Axes>"
      ]
     },
     "metadata": {
      "needs_background": "light"
     },
     "output_type": "display_data"
    }
   ],
   "source": [
    "plt.figure(figsize=(15,17))\n",
    "sns.barplot(df[\"Total_Stops\"].value_counts().keys(),df[\"Total_Stops\"].value_counts())\n",
    "plt.xlabel(\"Total_Stops\")\n",
    "plt.ylabel(\"values\")\n",
    "plt.show()\n",
    "#1stop is maximum in number"
   ]
  },
  {
   "cell_type": "code",
   "execution_count": 154,
   "id": "800589d7",
   "metadata": {},
   "outputs": [
    {
     "data": {
      "image/png": "[encoded data removed]",
      "text/plain": [
       "<Figure size 1080x1224 with 1 Axes>"
      ]
     },
     "metadata": {
      "needs_background": "light"
     },
     "output_type": "display_data"
    }
   ],
   "source": [
    "plt.figure(figsize=(15,17))\n",
    "sns.barplot(df[\"Destination\"].value_counts().keys(),df[\"Destination\"].value_counts())\n",
    "plt.xlabel(\"Destination\")\n",
    "plt.ylabel(\"values\")\n",
    "plt.show()"
   ]
  },
  {
   "cell_type": "code",
   "execution_count": 155,
   "id": "672e3e4a",
   "metadata": {},
   "outputs": [
    {
     "data": {
      "text/plain": [
       "<AxesSubplot:xlabel='month', ylabel='Price'>"
      ]
     },
     "execution_count": 155,
     "metadata": {},
     "output_type": "execute_result"
    },
    {
     "data": {
      "image/png": "[encoded data removed]",
      "text/plain": [
       "<Figure size 432x288 with 1 Axes>"
      ]
     },
     "metadata": {
      "needs_background": "light"
     },
     "output_type": "display_data"
    }
   ],
   "source": [
    "sns.scatterplot(x=df[\"month\"],y=df[\"Price\"])"
   ]
  },
  {
   "cell_type": "code",
   "execution_count": 156,
   "id": "fe0e11f1",
   "metadata": {},
   "outputs": [
    {
     "data": {
      "text/plain": [
       "<AxesSubplot:xlabel='year', ylabel='Price'>"
      ]
     },
     "execution_count": 156,
     "metadata": {},
     "output_type": "execute_result"
    },
    {
     "data": {
      "image/png": "[encoded data removed]",
      "text/plain": [
       "<Figure size 432x288 with 1 Axes>"
      ]
     },
     "metadata": {
      "needs_background": "light"
     },
     "output_type": "display_data"
    }
   ],
   "source": [
    "sns.scatterplot(x=df[\"year\"],y=df[\"Price\"])"
   ]
  },
  {
   "cell_type": "code",
   "execution_count": 157,
   "id": "6a478833",
   "metadata": {},
   "outputs": [
    {
     "data": {
      "text/plain": [
       "<AxesSubplot:xlabel='Duration', ylabel='Price'>"
      ]
     },
     "execution_count": 157,
     "metadata": {},
     "output_type": "execute_result"
    },
    {
     "data": {
      "image/png": "[encoded data removed]",
      "text/plain": [
       "<Figure size 432x288 with 1 Axes>"
      ]
     },
     "metadata": {
      "needs_background": "light"
     },
     "output_type": "display_data"
    }
   ],
   "source": [
    "sns.scatterplot(x=df[\"Duration\"],y=df[\"Price\"])"
   ]
  },
  {
   "cell_type": "code",
   "execution_count": 158,
   "id": "63ad0a91",
   "metadata": {},
   "outputs": [
    {
     "data": {
      "text/plain": [
       "<AxesSubplot:>"
      ]
     },
     "execution_count": 158,
     "metadata": {},
     "output_type": "execute_result"
    },
    {
     "data": {
      "image/png": "[encoded data removed]",
      "text/plain": [
       "<Figure size 432x288 with 2 Axes>"
      ]
     },
     "metadata": {
      "needs_background": "light"
     },
     "output_type": "display_data"
    }
   ],
   "source": [
    "sns.heatmap(df.corr(),annot=True)\n",
    "#from this graph no chance of multicolinaerity problem"
   ]
  },
  {
   "cell_type": "code",
   "execution_count": null,
   "id": "7bc696e9",
   "metadata": {},
   "outputs": [],
   "source": []
  },
  {
   "cell_type": "code",
   "execution_count": 159,
   "id": "edad1046",
   "metadata": {},
   "outputs": [],
   "source": [
    "#we can drop year since we have only one year 2019\n",
    "df=df.drop(columns=\"year\",axis=1)"
   ]
  },
  {
   "cell_type": "code",
   "execution_count": 160,
   "id": "432d0950",
   "metadata": {},
   "outputs": [
    {
     "data": {
      "text/html": [
       "<div>\n",
       "<style scoped>\n",
       "    .dataframe tbody tr th:only-of-type {\n",
       "        vertical-align: middle;\n",
       "    }\n",
       "\n",
       "    .dataframe tbody tr th {\n",
       "        vertical-align: top;\n",
       "    }\n",
       "\n",
       "    .dataframe thead th {\n",
       "        text-align: right;\n",
       "    }\n",
       "</style>\n",
       "<table border=\"1\" class=\"dataframe\">\n",
       "  <thead>\n",
       "    <tr style=\"text-align: right;\">\n",
       "      <th></th>\n",
       "      <th>Dep_Time</th>\n",
       "      <th>Duration</th>\n",
       "      <th>Price</th>\n",
       "      <th>month</th>\n",
       "      <th>Arrival_hour</th>\n",
       "    </tr>\n",
       "  </thead>\n",
       "  <tbody>\n",
       "    <tr>\n",
       "      <th>count</th>\n",
       "      <td>13354.000000</td>\n",
       "      <td>13354.00000</td>\n",
       "      <td>13354.000000</td>\n",
       "      <td>13354.000000</td>\n",
       "      <td>13354.000000</td>\n",
       "    </tr>\n",
       "    <tr>\n",
       "      <th>mean</th>\n",
       "      <td>12.513254</td>\n",
       "      <td>642.42287</td>\n",
       "      <td>9087.064121</td>\n",
       "      <td>4.710574</td>\n",
       "      <td>13.396061</td>\n",
       "    </tr>\n",
       "    <tr>\n",
       "      <th>std</th>\n",
       "      <td>5.736273</td>\n",
       "      <td>506.71504</td>\n",
       "      <td>4124.447805</td>\n",
       "      <td>1.165622</td>\n",
       "      <td>6.896145</td>\n",
       "    </tr>\n",
       "    <tr>\n",
       "      <th>min</th>\n",
       "      <td>0.000000</td>\n",
       "      <td>5.00000</td>\n",
       "      <td>1759.000000</td>\n",
       "      <td>3.000000</td>\n",
       "      <td>0.000000</td>\n",
       "    </tr>\n",
       "    <tr>\n",
       "      <th>25%</th>\n",
       "      <td>8.000000</td>\n",
       "      <td>175.00000</td>\n",
       "      <td>6135.250000</td>\n",
       "      <td>3.000000</td>\n",
       "      <td>8.000000</td>\n",
       "    </tr>\n",
       "    <tr>\n",
       "      <th>50%</th>\n",
       "      <td>11.000000</td>\n",
       "      <td>520.00000</td>\n",
       "      <td>9087.064121</td>\n",
       "      <td>5.000000</td>\n",
       "      <td>14.000000</td>\n",
       "    </tr>\n",
       "    <tr>\n",
       "      <th>75%</th>\n",
       "      <td>18.000000</td>\n",
       "      <td>930.00000</td>\n",
       "      <td>11087.000000</td>\n",
       "      <td>6.000000</td>\n",
       "      <td>19.000000</td>\n",
       "    </tr>\n",
       "    <tr>\n",
       "      <th>max</th>\n",
       "      <td>23.000000</td>\n",
       "      <td>2860.00000</td>\n",
       "      <td>79512.000000</td>\n",
       "      <td>6.000000</td>\n",
       "      <td>23.000000</td>\n",
       "    </tr>\n",
       "  </tbody>\n",
       "</table>\n",
       "</div>"
      ],
      "text/plain": [
       "           Dep_Time     Duration         Price         month  Arrival_hour\n",
       "count  13354.000000  13354.00000  13354.000000  13354.000000  13354.000000\n",
       "mean      12.513254    642.42287   9087.064121      4.710574     13.396061\n",
       "std        5.736273    506.71504   4124.447805      1.165622      6.896145\n",
       "min        0.000000      5.00000   1759.000000      3.000000      0.000000\n",
       "25%        8.000000    175.00000   6135.250000      3.000000      8.000000\n",
       "50%       11.000000    520.00000   9087.064121      5.000000     14.000000\n",
       "75%       18.000000    930.00000  11087.000000      6.000000     19.000000\n",
       "max       23.000000   2860.00000  79512.000000      6.000000     23.000000"
      ]
     },
     "execution_count": 160,
     "metadata": {},
     "output_type": "execute_result"
    }
   ],
   "source": [
    "df.describe()"
   ]
  },
  {
   "cell_type": "code",
   "execution_count": 161,
   "id": "e2523344",
   "metadata": {},
   "outputs": [
    {
     "name": "stdout",
     "output_type": "stream",
     "text": [
      "There are 5 numerical variables\n",
      "\n",
      "The numerical variables are : ['Dep_Time', 'Duration', 'Price', 'month', 'Arrival_hour']\n"
     ]
    }
   ],
   "source": [
    "#check for normal distribution\n",
    "numerical = [var for var in df.columns if df[var].dtype!='O']\n",
    "\n",
    "print('There are {} numerical variables\\n'.format(len(numerical)))\n",
    "\n",
    "print('The numerical variables are :', numerical)"
   ]
  },
  {
   "cell_type": "code",
   "execution_count": 162,
   "id": "65ccb19d",
   "metadata": {},
   "outputs": [
    {
     "data": {
      "image/png": "[encoded data removed]",
      "text/plain": [
       "<Figure size 432x288 with 1 Axes>"
      ]
     },
     "metadata": {
      "needs_background": "light"
     },
     "output_type": "display_data"
    },
    {
     "data": {
      "image/png": "[encoded data removed]",
      "text/plain": [
       "<Figure size 432x288 with 1 Axes>"
      ]
     },
     "metadata": {
      "needs_background": "light"
     },
     "output_type": "display_data"
    },
    {
     "data": {
      "image/png": "[encoded data removed]",
      "text/plain": [
       "<Figure size 432x288 with 1 Axes>"
      ]
     },
     "metadata": {
      "needs_background": "light"
     },
     "output_type": "display_data"
    },
    {
     "data": {
      "image/png": "[encoded data removed]",
      "text/plain": [
       "<Figure size 432x288 with 1 Axes>"
      ]
     },
     "metadata": {
      "needs_background": "light"
     },
     "output_type": "display_data"
    },
    {
     "data": {
      "image/png": "[encoded data removed]",
      "text/plain": [
       "<Figure size 432x288 with 1 Axes>"
      ]
     },
     "metadata": {
      "needs_background": "light"
     },
     "output_type": "display_data"
    }
   ],
   "source": [
    "for i in numerical:\n",
    "    sns.distplot(df[i])\n",
    "  \n",
    "    plt.show()\n",
    "    #it is not normally distributed"
   ]
  },
  {
   "cell_type": "code",
   "execution_count": 163,
   "id": "4629e919",
   "metadata": {},
   "outputs": [
    {
     "data": {
      "text/plain": [
       "Index(['Airline', 'Source', 'Destination', 'Dep_Time', 'Arrival_Time',\n",
       "       'Duration', 'Total_Stops', 'Price', 'month', 'Arrival_hour'],\n",
       "      dtype='object')"
      ]
     },
     "execution_count": 163,
     "metadata": {},
     "output_type": "execute_result"
    }
   ],
   "source": [
    "from sklearn.preprocessing import LabelEncoder\n",
    "label=LabelEncoder()\n",
    "df.columns\n"
   ]
  },
  {
   "cell_type": "code",
   "execution_count": null,
   "id": "6ab90c7e",
   "metadata": {},
   "outputs": [],
   "source": []
  },
  {
   "cell_type": "code",
   "execution_count": 164,
   "id": "b0cb3cf3",
   "metadata": {},
   "outputs": [],
   "source": [
    "df[\"Airline\"]=label.fit_transform(df[\"Airline\"])\n",
    "df[\"Total_Stops\"]=label.fit_transform(df[\"Total_Stops\"])\n",
    "df[\"Source\"]=label.fit_transform(df[\"Source\"])\n",
    "df[\"Destination\"]=label.fit_transform(df[\"Destination\"])\n",
    "                                    "
   ]
  },
  {
   "cell_type": "code",
   "execution_count": 165,
   "id": "4fc95b07",
   "metadata": {},
   "outputs": [
    {
     "name": "stdout",
     "output_type": "stream",
     "text": [
      "There are 9 numerical variables\n",
      "\n",
      "The numerical variables are : ['Airline', 'Source', 'Destination', 'Dep_Time', 'Duration', 'Total_Stops', 'Price', 'month', 'Arrival_hour']\n"
     ]
    }
   ],
   "source": [
    "numerical = [var for var in df.columns if df[var].dtype!='O']\n",
    "\n",
    "print('There are {} numerical variables\\n'.format(len(numerical)))\n",
    "\n",
    "print('The numerical variables are :', numerical)"
   ]
  },
  {
   "cell_type": "code",
   "execution_count": 166,
   "id": "94340084",
   "metadata": {},
   "outputs": [],
   "source": [
    "df=df.drop(columns=\"Arrival_Time\")"
   ]
  },
  {
   "cell_type": "code",
   "execution_count": 167,
   "id": "a58ba75b",
   "metadata": {},
   "outputs": [
    {
     "data": {
      "text/plain": [
       "Airline         0.720924\n",
       "Source         -0.424151\n",
       "Destination     1.247893\n",
       "Dep_Time        0.109087\n",
       "Duration        0.867883\n",
       "Total_Stops     0.639492\n",
       "Price           2.026457\n",
       "month          -0.390684\n",
       "Arrival_hour   -0.384591\n",
       "dtype: float64"
      ]
     },
     "execution_count": 167,
     "metadata": {},
     "output_type": "execute_result"
    }
   ],
   "source": [
    "df.skew()\n",
    "#no skewness is present. price is output so no need to remove skewness"
   ]
  },
  {
   "cell_type": "code",
   "execution_count": 168,
   "id": "41b0f80c",
   "metadata": {},
   "outputs": [],
   "source": [
    "from scipy import stats"
   ]
  },
  {
   "cell_type": "code",
   "execution_count": 169,
   "id": "94681573",
   "metadata": {},
   "outputs": [],
   "source": [
    "z=np.abs(stats.zscore(df))"
   ]
  },
  {
   "cell_type": "code",
   "execution_count": 170,
   "id": "0876dc77",
   "metadata": {},
   "outputs": [],
   "source": [
    "df=df[(z<3).all(axis=1)]"
   ]
  },
  {
   "cell_type": "code",
   "execution_count": 172,
   "id": "eb82876c",
   "metadata": {},
   "outputs": [
    {
     "data": {
      "text/plain": [
       "(13145, 9)"
      ]
     },
     "execution_count": 172,
     "metadata": {},
     "output_type": "execute_result"
    }
   ],
   "source": [
    "df.shape"
   ]
  },
  {
   "cell_type": "code",
   "execution_count": 173,
   "id": "c3578cea",
   "metadata": {},
   "outputs": [],
   "source": [
    "x=df.drop(columns=\"Price\")\n",
    "y=df[\"Price\"]"
   ]
  },
  {
   "cell_type": "code",
   "execution_count": 174,
   "id": "78fc3f90",
   "metadata": {},
   "outputs": [
    {
     "data": {
      "text/plain": [
       "(13145,)"
      ]
     },
     "execution_count": 174,
     "metadata": {},
     "output_type": "execute_result"
    }
   ],
   "source": [
    "y.shape"
   ]
  },
  {
   "cell_type": "code",
   "execution_count": 175,
   "id": "8b86ccff",
   "metadata": {},
   "outputs": [],
   "source": [
    "x_train,x_test,y_train,y_test=train_test_split(x,y,random_state=45,test_size=0.20,)"
   ]
  },
  {
   "cell_type": "code",
   "execution_count": 176,
   "id": "84036f15",
   "metadata": {},
   "outputs": [],
   "source": [
    "from sklearn.model_selection import train_test_split\n",
    "from  sklearn.preprocessing import StandardScaler\n",
    "lr=StandardScaler()\n",
    "x=lr.fit_transform(x)"
   ]
  },
  {
   "cell_type": "code",
   "execution_count": 177,
   "id": "dbfa0995",
   "metadata": {},
   "outputs": [],
   "source": [
    "from sklearn.linear_model import LinearRegression\n",
    "from sklearn.metrics import r2_score,mean_absolute_error,mean_squared_error"
   ]
  },
  {
   "cell_type": "code",
   "execution_count": 178,
   "id": "20401182",
   "metadata": {},
   "outputs": [
    {
     "name": "stdout",
     "output_type": "stream",
     "text": [
      "0.37429654124658096\n",
      "2302.182057945121\n",
      "8012293.027870891\n"
     ]
    }
   ],
   "source": [
    "LR=LinearRegression()\n",
    "LR=LR.fit(x_train,y_train)\n",
    "y_Ptrain=LR.predict(x_train)\n",
    "y_Ptest=LR.predict(x_test)\n",
    "score1=r2_score(y_train,y_Ptrain)\n",
    "score2=mean_absolute_error(y_train,y_Ptrain)\n",
    "score3=mean_squared_error(y_train,y_Ptrain)\n",
    "print(score1)\n",
    "print(score2)\n",
    "print(score3)"
   ]
  },
  {
   "cell_type": "code",
   "execution_count": 180,
   "id": "15c97d84",
   "metadata": {},
   "outputs": [
    {
     "name": "stdout",
     "output_type": "stream",
     "text": [
      "0.37429654124658096\n",
      "0.37429654124658096\n",
      "8012293.027870891\n"
     ]
    }
   ],
   "source": [
    "print(score1)\n",
    "print(score1)\n",
    "print(score3)"
   ]
  },
  {
   "cell_type": "code",
   "execution_count": null,
   "id": "0bce76df",
   "metadata": {},
   "outputs": [],
   "source": []
  },
  {
   "cell_type": "code",
   "execution_count": 181,
   "id": "af320fd7",
   "metadata": {},
   "outputs": [
    {
     "name": "stdout",
     "output_type": "stream",
     "text": [
      "At cv= 2, cross mean is 0.37318207307128226,and testscore=0.3709167539073984\n",
      "At cv= 3, cross mean is 0.3732857938250656,and testscore=0.3709167539073984\n",
      "At cv= 4, cross mean is 0.3735900827885723,and testscore=0.3709167539073984\n",
      "At cv= 5, cross mean is 0.3731012140314197,and testscore=0.3709167539073984\n",
      "At cv= 6, cross mean is 0.373256890260332,and testscore=0.3709167539073984\n",
      "At cv= 7, cross mean is 0.37308218804490906,and testscore=0.3709167539073984\n",
      "At cv= 8, cross mean is 0.37324533069205407,and testscore=0.3709167539073984\n",
      "At cv= 9, cross mean is 0.37234672890074566,and testscore=0.3709167539073984\n"
     ]
    }
   ],
   "source": [
    "from sklearn.model_selection import cross_val_score,GridSearchCV\n",
    "trainscore=r2_score(y_Ptrain,y_train)\n",
    "testscore=r2_score(y_test,y_Ptest)\n",
    "for i in range(2,10):\n",
    "    crossval=cross_val_score(LR,x_train,y_train,cv=i)\n",
    "    cvmean=crossval.mean()\n",
    "    print(\"At cv= {}, cross mean is {},and testscore={}\".format(i,cvmean,testscore))"
   ]
  },
  {
   "cell_type": "code",
   "execution_count": 182,
   "id": "3187f4ad",
   "metadata": {},
   "outputs": [
    {
     "name": "stdout",
     "output_type": "stream",
     "text": [
      "{'alpha': 10, 'random_state': 1}\n",
      "0.3731350113547821\n"
     ]
    }
   ],
   "source": [
    "from sklearn.linear_model import Lasso\n",
    "ls=Lasso()\n",
    "params = {'alpha': [0.001, 0.01, 0.1, 1, 10],'random_state':list(range(1,10))}\n",
    "lsm = GridSearchCV(ls, params)\n",
    "\n",
    "lsm.fit(x_train, y_train)\n",
    "\n",
    "print(lsm.best_params_)\n",
    "print(lsm.best_score_)"
   ]
  },
  {
   "cell_type": "code",
   "execution_count": 183,
   "id": "6a5aaad0",
   "metadata": {},
   "outputs": [
    {
     "name": "stdout",
     "output_type": "stream",
     "text": [
      "0.37078664958538865\n",
      "2320.6826851028895\n",
      "8065027.058504818\n"
     ]
    }
   ],
   "source": [
    "ls=Lasso(alpha=0.001,random_state=1)\n",
    "lsm.fit(x_train,y_train)\n",
    "y_pred=lsm.predict(x_test)\n",
    "score=r2_score(y_test,y_pred)\n",
    "score1=mean_absolute_error(y_test,y_pred)\n",
    "score2=mean_squared_error(y_test,y_pred)\n",
    "print(score)\n",
    "print(score1)\n",
    "print(score2)"
   ]
  },
  {
   "cell_type": "code",
   "execution_count": 184,
   "id": "e89abe19",
   "metadata": {},
   "outputs": [
    {
     "data": {
      "text/plain": [
       "0.37234398729682927"
      ]
     },
     "execution_count": 184,
     "metadata": {},
     "output_type": "execute_result"
    }
   ],
   "source": [
    "crossvalue=cross_val_score(lsm,x_train,y_train,cv=9)\n",
    "cvmean=crossvalue.mean()\n",
    "cvmean"
   ]
  },
  {
   "cell_type": "code",
   "execution_count": 185,
   "id": "c4da8455",
   "metadata": {},
   "outputs": [
    {
     "data": {
      "text/plain": [
       "{'criterion': 'mae', 'max_features': 'sqrt'}"
      ]
     },
     "execution_count": 185,
     "metadata": {},
     "output_type": "execute_result"
    }
   ],
   "source": [
    "from sklearn.ensemble import RandomForestRegressor\n",
    "rm=RandomForestRegressor()\n",
    "import warnings\n",
    "warnings.filterwarnings(\"ignore\")\n",
    "para={'criterion':['mse','mae'],'max_features':[\"auto\",\"sqrt\",\"log2\"]}\n",
    "rmg=GridSearchCV(rm,para)\n",
    "rmg.fit(x_train,y_train)\n",
    "rmg.best_params_"
   ]
  },
  {
   "cell_type": "code",
   "execution_count": null,
   "id": "6bfac183",
   "metadata": {},
   "outputs": [],
   "source": [
    "crossvalue=cross_val_score(rmg,x_train,y_train,cv=9)\n",
    "crossmean=crossvalue.mean()\n",
    "print(crossmean)"
   ]
  },
  {
   "cell_type": "code",
   "execution_count": 186,
   "id": "e8e4de0d",
   "metadata": {},
   "outputs": [
    {
     "data": {
      "text/plain": [
       "0.4938206854277716"
      ]
     },
     "execution_count": 186,
     "metadata": {},
     "output_type": "execute_result"
    }
   ],
   "source": [
    "from sklearn.neighbors import KNeighborsRegressor\n",
    "kn=KNeighborsRegressor()\n",
    "kn.fit(x_train, y_train)\n",
    "pred=kn.predict(x_test)\n",
    "score=r2_score(y_test,pred)\n",
    "score"
   ]
  },
  {
   "cell_type": "code",
   "execution_count": 187,
   "id": "392f27ff",
   "metadata": {},
   "outputs": [
    {
     "data": {
      "text/plain": [
       "0.482941107739815"
      ]
     },
     "execution_count": 187,
     "metadata": {},
     "output_type": "execute_result"
    }
   ],
   "source": [
    "crossval=cross_val_score(kn,x_train,y_train,cv=2)\n",
    "cvmean=crossval.mean()\n",
    "cvmean"
   ]
  },
  {
   "cell_type": "code",
   "execution_count": null,
   "id": "c7938b45",
   "metadata": {},
   "outputs": [],
   "source": [
    "#random forest gives better result\n",
    "import pickle\n",
    "file_name=\"Global power\"\n",
    "pickle.dump(rmg,open(file_name,\"wb\")"
   ]
  }
 ],
 "metadata": {
  "kernelspec": {
   "display_name": "Python 3 (ipykernel)",
   "language": "python",
   "name": "python3"
  },
  "language_info": {
   "codemirror_mode": {
    "name": "ipython",
    "version": 3
   },
   "file_extension": ".py",
   "mimetype": "text/x-python",
   "name": "python",
   "nbconvert_exporter": "python",
   "pygments_lexer": "ipython3",
   "version": "3.10.4"
  }
 },
 "nbformat": 4,
 "nbformat_minor": 5
}
